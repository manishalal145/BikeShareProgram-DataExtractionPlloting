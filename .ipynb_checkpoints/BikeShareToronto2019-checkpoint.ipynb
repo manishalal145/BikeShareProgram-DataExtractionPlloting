{
 "cells": [
  {
   "cell_type": "code",
   "execution_count": 56,
   "metadata": {},
   "outputs": [],
   "source": [
    "# import dependencies\n",
    "import os\n",
    "import matplotlib.pyplot as plt\n",
    "import pandas as pd\n",
    "import numpy as np\n",
    "import scipy.stats as st\n",
    "import requests\n",
    "import datetime as dt"
   ]
  },
  {
   "cell_type": "code",
   "execution_count": 3,
   "metadata": {},
   "outputs": [],
   "source": [
    "toronto_Q1_path = os.path.join(\"Resources/Toronto\", \"2019-Q1.csv\")\n",
    "toronto_Q2_path = os.path.join(\"Resources/Toronto\", \"2019-Q2.csv\")\n",
    "toronto_Q3_path = os.path.join(\"Resources/Toronto\", \"2019-Q3.csv\")\n",
    "toronto_Q4_path = os.path.join(\"Resources/Toronto\", \"2019-Q4.csv\")\n",
    "\n",
    "q1 = pd.read_csv(toronto_Q1_path, encoding=\"utf=8\")\n",
    "q2 = pd.read_csv(toronto_Q2_path, encoding=\"utf=8\")\n",
    "q3 = pd.read_csv(toronto_Q3_path, encoding=\"utf=8\")\n",
    "q4 = pd.read_csv(toronto_Q4_path, encoding=\"utf=8\")\n"
   ]
  },
  {
   "cell_type": "code",
   "execution_count": 4,
   "metadata": {
    "scrolled": true
   },
   "outputs": [
    {
     "name": "stdout",
     "output_type": "stream",
     "text": [
      "Q1: 189063 Q2: 651685 Q3: 1130353 Q4: 468416 Total: 2439517\n"
     ]
    }
   ],
   "source": [
    "#Trip Id\tSubscription Id\tTrip Duration\tStart Station Id\tStart Time\tStart Station Name\tEnd Station Id\tEnd Time\tEnd Station Name\tBike Id\tUser Type\n",
    "#summary data frame\n",
    "q1_total = q1.count()[\"Trip Id\"]\n",
    "q2_total = q2.count()[\"Trip Id\"]\n",
    "q3_total = q3.count()[\"Trip Id\"]\n",
    "q4_total = q4.count()[\"Trip Id\"]\n",
    "total_trips = q1_total + q2_total + q3_total + q4_total\n",
    "total_trips\n",
    "print(f\"Q1: {q1_total} Q2: {q2_total} Q3: {q3_total} Q4: {q4_total} Total: {total_trips}\")"
   ]
  },
  {
   "cell_type": "code",
   "execution_count": 5,
   "metadata": {},
   "outputs": [
    {
     "data": {
      "text/plain": [
       "359"
      ]
     },
     "execution_count": 5,
     "metadata": {},
     "output_type": "execute_result"
    }
   ],
   "source": [
    "#get all station ids\n",
    "q1_uniq_start = q1[\"Start Station Id\"].nunique() #359\n",
    "q1_uniq_end= q1[\"End Station Id\"].nunique()\n",
    "q1_uniq_start\n",
    "q1_uniq_end"
   ]
  },
  {
   "cell_type": "code",
   "execution_count": 6,
   "metadata": {},
   "outputs": [],
   "source": [
    "#625 all over toronto\n",
    "#get all unique stations\n",
    "q1_start_stn = q1[\"Start Station Id\"]\n",
    "q1_end_stn = q1[\"End Station Id\"]\n",
    "toronto_stations = []  #359\n",
    "\n",
    "q2_start_stn = q2[\"Start Station Id\"]\n",
    "q2_end_stn = q2[\"End Station Id\"]\n",
    "\n",
    "q3_start_stn = q3[\"Start Station Id\"]\n",
    "q3_end_stn = q3[\"End Station Id\"]\n",
    "\n",
    "q4_start_stn = q4[\"Start Station Id\"]\n",
    "q4_end_stn = q4[\"End Station Id\"]\n"
   ]
  },
  {
   "cell_type": "code",
   "execution_count": 7,
   "metadata": {},
   "outputs": [],
   "source": [
    "for x in range(len(q1)):\n",
    "    station = q1_start_stn[x]\n",
    "    if station not in toronto_stations:\n",
    "        toronto_stations.append(station)\n",
    "\n",
    "for x in range(len(q1)):\n",
    "    station = q1_end_stn[x]\n",
    "    if station not in toronto_stations:\n",
    "        toronto_stations.append(station)\n"
   ]
  },
  {
   "cell_type": "code",
   "execution_count": 8,
   "metadata": {},
   "outputs": [
    {
     "data": {
      "text/plain": [
       "359"
      ]
     },
     "execution_count": 8,
     "metadata": {},
     "output_type": "execute_result"
    }
   ],
   "source": [
    "len(toronto_stations)"
   ]
  },
  {
   "cell_type": "code",
   "execution_count": 11,
   "metadata": {},
   "outputs": [],
   "source": [
    "for x in range(len(q2)):\n",
    "    station = q2_start_stn[x]\n",
    "    if station not in toronto_stations:\n",
    "        toronto_stations.append(station)\n",
    "\n",
    "for x in range(len(q2)):\n",
    "    station = q2_end_stn[x]\n",
    "    if station not in toronto_stations:\n",
    "        toronto_stations.append(station)\n"
   ]
  },
  {
   "cell_type": "code",
   "execution_count": 12,
   "metadata": {},
   "outputs": [
    {
     "data": {
      "text/plain": [
       "373"
      ]
     },
     "execution_count": 12,
     "metadata": {},
     "output_type": "execute_result"
    }
   ],
   "source": [
    "len(toronto_stations)"
   ]
  },
  {
   "cell_type": "code",
   "execution_count": 13,
   "metadata": {},
   "outputs": [
    {
     "data": {
      "text/plain": [
       "490"
      ]
     },
     "execution_count": 13,
     "metadata": {},
     "output_type": "execute_result"
    }
   ],
   "source": [
    "for x in range(len(q3)):\n",
    "    station = q3_start_stn[x]\n",
    "    if station not in toronto_stations:\n",
    "        toronto_stations.append(station)\n",
    "\n",
    "for x in range(len(q3)):\n",
    "    station = q3_end_stn[x]\n",
    "    if station not in toronto_stations:\n",
    "        toronto_stations.append(station)\n",
    "\n",
    "len(toronto_stations)"
   ]
  },
  {
   "cell_type": "code",
   "execution_count": 14,
   "metadata": {},
   "outputs": [
    {
     "data": {
      "text/plain": [
       "924"
      ]
     },
     "execution_count": 14,
     "metadata": {},
     "output_type": "execute_result"
    }
   ],
   "source": [
    "for x in range(len(q4)):\n",
    "    station = q4_start_stn[x]\n",
    "    if station not in toronto_stations:\n",
    "        toronto_stations.append(station)\n",
    "\n",
    "for x in range(len(q4)):\n",
    "    station = q4_end_stn[x]\n",
    "    if station not in toronto_stations:\n",
    "        toronto_stations.append(station)\n",
    "\n",
    "len(toronto_stations)"
   ]
  },
  {
   "cell_type": "code",
   "execution_count": 43,
   "metadata": {},
   "outputs": [
    {
     "name": "stdout",
     "output_type": "stream",
     "text": [
      "Unique Users for Q1: 11030 | Q2: 66094 | Q3: 130570 | Q4: 32658\n",
      "240352\n"
     ]
    }
   ],
   "source": [
    "#unique number of users for q1\n",
    "q1_total_users = q1[\"Subscription Id\"].nunique()\n",
    "\n",
    "q2_total_users = q2[\"Subscription Id\"].nunique()\n",
    "\n",
    "q3_total_users = q3[\"Subscription Id\"].nunique()\n",
    "\n",
    "q4_total_users = q4[\"Subscription Id\"].nunique()\n",
    "\n",
    "print(f\"Unique Users for Q1: {q1_total_users} | Q2: {q2_total_users} | \\\n",
    "Q3: {q3_total_users} | Q4: {q4_total_users}\")\n",
    "\n",
    "print(q1_total_users + q2_total_users + q3_total_users + q4_total_users)"
   ]
  },
  {
   "cell_type": "code",
   "execution_count": 202,
   "metadata": {},
   "outputs": [
    {
     "data": {
      "text/plain": [
       "11030"
      ]
     },
     "execution_count": 202,
     "metadata": {},
     "output_type": "execute_result"
    }
   ],
   "source": [
    "# get unique users for the year\n",
    "q1_users = q1[\"Subscription Id\"].unique()\n",
    "q2_users = q2[\"Subscription Id\"].unique()\n",
    "q3_users = q3[\"Subscription Id\"].unique()\n",
    "q4_users = q4[\"Subscription Id\"].unique()\n",
    "\n",
    "total_users = []\n",
    "\n",
    "for x in range(len(q1_users)):\n",
    "    user = q1_users[x]\n",
    "    if user not in total_users:\n",
    "        total_users.append(user)\n",
    "len(total_users)"
   ]
  },
  {
   "cell_type": "code",
   "execution_count": 203,
   "metadata": {},
   "outputs": [
    {
     "data": {
      "text/plain": [
       "70509"
      ]
     },
     "execution_count": 203,
     "metadata": {},
     "output_type": "execute_result"
    }
   ],
   "source": [
    "for x in range(len(q2_users)):\n",
    "    user = q2_users[x]\n",
    "    if user not in total_users:\n",
    "        total_users.append(user)\n",
    "len(total_users)"
   ]
  },
  {
   "cell_type": "code",
   "execution_count": 204,
   "metadata": {},
   "outputs": [
    {
     "data": {
      "text/plain": [
       "190307"
      ]
     },
     "execution_count": 204,
     "metadata": {},
     "output_type": "execute_result"
    }
   ],
   "source": [
    "for x in range(len(q3_users)):\n",
    "    user = q3_users[x]\n",
    "    if user not in total_users:\n",
    "        total_users.append(user)\n",
    "len(total_users)"
   ]
  },
  {
   "cell_type": "code",
   "execution_count": 205,
   "metadata": {},
   "outputs": [
    {
     "data": {
      "text/plain": [
       "211763"
      ]
     },
     "execution_count": 205,
     "metadata": {},
     "output_type": "execute_result"
    }
   ],
   "source": [
    "for x in range(len(q4_users)):\n",
    "    user = q4_users[x]\n",
    "    if user not in total_users:\n",
    "        total_users.append(user)\n",
    "len(total_users)"
   ]
  },
  {
   "cell_type": "code",
   "execution_count": 206,
   "metadata": {},
   "outputs": [
    {
     "name": "stdout",
     "output_type": "stream",
     "text": [
      "211763\n"
     ]
    }
   ],
   "source": [
    "print(len(total_users))"
   ]
  },
  {
   "cell_type": "code",
   "execution_count": 209,
   "metadata": {},
   "outputs": [
    {
     "data": {
      "text/html": [
       "<div>\n",
       "<style scoped>\n",
       "    .dataframe tbody tr th:only-of-type {\n",
       "        vertical-align: middle;\n",
       "    }\n",
       "\n",
       "    .dataframe tbody tr th {\n",
       "        vertical-align: top;\n",
       "    }\n",
       "\n",
       "    .dataframe thead th {\n",
       "        text-align: right;\n",
       "    }\n",
       "</style>\n",
       "<table border=\"1\" class=\"dataframe\">\n",
       "  <thead>\n",
       "    <tr style=\"text-align: right;\">\n",
       "      <th></th>\n",
       "      <th>Total Count</th>\n",
       "    </tr>\n",
       "  </thead>\n",
       "  <tbody>\n",
       "    <tr>\n",
       "      <th>Annual Member</th>\n",
       "      <td>7654</td>\n",
       "    </tr>\n",
       "    <tr>\n",
       "      <th>Casual Member</th>\n",
       "      <td>3376</td>\n",
       "    </tr>\n",
       "  </tbody>\n",
       "</table>\n",
       "</div>"
      ],
      "text/plain": [
       "               Total Count\n",
       "Annual Member         7654\n",
       "Casual Member         3376"
      ]
     },
     "execution_count": 209,
     "metadata": {},
     "output_type": "execute_result"
    }
   ],
   "source": [
    "#User Type count Q1\n",
    "q1_user_type = q1[[\"Subscription Id\", \"User Type\"]].drop_duplicates()\n",
    "q1_user_type_df = pd.DataFrame({\"Total Count\" : q1_user_type[\"User Type\"].value_counts()})\n",
    "q1_user_type_df"
   ]
  },
  {
   "cell_type": "code",
   "execution_count": 177,
   "metadata": {},
   "outputs": [
    {
     "data": {
      "text/html": [
       "<div>\n",
       "<style scoped>\n",
       "    .dataframe tbody tr th:only-of-type {\n",
       "        vertical-align: middle;\n",
       "    }\n",
       "\n",
       "    .dataframe tbody tr th {\n",
       "        vertical-align: top;\n",
       "    }\n",
       "\n",
       "    .dataframe thead th {\n",
       "        text-align: right;\n",
       "    }\n",
       "</style>\n",
       "<table border=\"1\" class=\"dataframe\">\n",
       "  <thead>\n",
       "    <tr style=\"text-align: right;\">\n",
       "      <th></th>\n",
       "      <th>Total Count</th>\n",
       "    </tr>\n",
       "  </thead>\n",
       "  <tbody>\n",
       "    <tr>\n",
       "      <th>Casual Member</th>\n",
       "      <td>51329</td>\n",
       "    </tr>\n",
       "    <tr>\n",
       "      <th>Annual Member</th>\n",
       "      <td>14765</td>\n",
       "    </tr>\n",
       "  </tbody>\n",
       "</table>\n",
       "</div>"
      ],
      "text/plain": [
       "               Total Count\n",
       "Casual Member        51329\n",
       "Annual Member        14765"
      ]
     },
     "execution_count": 177,
     "metadata": {},
     "output_type": "execute_result"
    }
   ],
   "source": [
    "#User Type count Q2\n",
    "q2_user_type = q2[[\"Subscription Id\", \"User Type\"]].drop_duplicates()\n",
    "q2_user_type_df = pd.DataFrame({\"Total Count\" : q2_user_type[\"User Type\"].value_counts()})\n",
    "q2_user_type_df"
   ]
  },
  {
   "cell_type": "code",
   "execution_count": 178,
   "metadata": {},
   "outputs": [
    {
     "data": {
      "text/html": [
       "<div>\n",
       "<style scoped>\n",
       "    .dataframe tbody tr th:only-of-type {\n",
       "        vertical-align: middle;\n",
       "    }\n",
       "\n",
       "    .dataframe tbody tr th {\n",
       "        vertical-align: top;\n",
       "    }\n",
       "\n",
       "    .dataframe thead th {\n",
       "        text-align: right;\n",
       "    }\n",
       "</style>\n",
       "<table border=\"1\" class=\"dataframe\">\n",
       "  <thead>\n",
       "    <tr style=\"text-align: right;\">\n",
       "      <th></th>\n",
       "      <th>Total Count</th>\n",
       "    </tr>\n",
       "  </thead>\n",
       "  <tbody>\n",
       "    <tr>\n",
       "      <th>Casual Member</th>\n",
       "      <td>113479</td>\n",
       "    </tr>\n",
       "    <tr>\n",
       "      <th>Annual Member</th>\n",
       "      <td>17091</td>\n",
       "    </tr>\n",
       "  </tbody>\n",
       "</table>\n",
       "</div>"
      ],
      "text/plain": [
       "               Total Count\n",
       "Casual Member       113479\n",
       "Annual Member        17091"
      ]
     },
     "execution_count": 178,
     "metadata": {},
     "output_type": "execute_result"
    }
   ],
   "source": [
    "#User Type count Q3\n",
    "q3_user_type = q3[[\"Subscription Id\", \"User Type\"]].drop_duplicates()\n",
    "q3_user_type_df = pd.DataFrame({\"Total Count\" : q3_user_type[\"User Type\"].value_counts()})\n",
    "q3_user_type_df"
   ]
  },
  {
   "cell_type": "code",
   "execution_count": 179,
   "metadata": {},
   "outputs": [
    {
     "data": {
      "text/html": [
       "<div>\n",
       "<style scoped>\n",
       "    .dataframe tbody tr th:only-of-type {\n",
       "        vertical-align: middle;\n",
       "    }\n",
       "\n",
       "    .dataframe tbody tr th {\n",
       "        vertical-align: top;\n",
       "    }\n",
       "\n",
       "    .dataframe thead th {\n",
       "        text-align: right;\n",
       "    }\n",
       "</style>\n",
       "<table border=\"1\" class=\"dataframe\">\n",
       "  <thead>\n",
       "    <tr style=\"text-align: right;\">\n",
       "      <th></th>\n",
       "      <th>Total Count</th>\n",
       "    </tr>\n",
       "  </thead>\n",
       "  <tbody>\n",
       "    <tr>\n",
       "      <th>Casual Member</th>\n",
       "      <td>20075</td>\n",
       "    </tr>\n",
       "    <tr>\n",
       "      <th>Annual Member</th>\n",
       "      <td>12583</td>\n",
       "    </tr>\n",
       "  </tbody>\n",
       "</table>\n",
       "</div>"
      ],
      "text/plain": [
       "               Total Count\n",
       "Casual Member        20075\n",
       "Annual Member        12583"
      ]
     },
     "execution_count": 179,
     "metadata": {},
     "output_type": "execute_result"
    }
   ],
   "source": [
    "#User Type count Q4\n",
    "q4_user_type = q4[[\"Subscription Id\", \"User Type\"]].drop_duplicates()\n",
    "q4_user_type_df = pd.DataFrame({\"Total Count\" : q4_user_type[\"User Type\"].value_counts()})\n",
    "q4_user_type_df"
   ]
  },
  {
   "cell_type": "code",
   "execution_count": 212,
   "metadata": {},
   "outputs": [
    {
     "data": {
      "text/plain": [
       "array([199751, 294730, 197252, ..., 315497, 315498, 209680])"
      ]
     },
     "execution_count": 212,
     "metadata": {},
     "output_type": "execute_result"
    }
   ],
   "source": [
    "q1_users\n",
    "    "
   ]
  },
  {
   "cell_type": "code",
   "execution_count": 26,
   "metadata": {},
   "outputs": [
    {
     "data": {
      "text/plain": [
       "13.446730631235797"
      ]
     },
     "execution_count": 26,
     "metadata": {},
     "output_type": "execute_result"
    }
   ],
   "source": [
    "#average trip duration q1\n",
    "q1_avg_trip_duration = (q1[\"Trip  Duration\"].mean()) / 60\n",
    "q1_avg_trip_duration"
   ]
  },
  {
   "cell_type": "code",
   "execution_count": 20,
   "metadata": {},
   "outputs": [
    {
     "data": {
      "text/plain": [
       "17.707599351424896"
      ]
     },
     "execution_count": 20,
     "metadata": {},
     "output_type": "execute_result"
    }
   ],
   "source": [
    "#average trip duration q2\n",
    "q2_avg_trip_duration = (q2[\"Trip  Duration\"].mean()) / 60\n",
    "q2_avg_trip_duration"
   ]
  },
  {
   "cell_type": "code",
   "execution_count": 21,
   "metadata": {},
   "outputs": [
    {
     "data": {
      "text/plain": [
       "18.54283776837855"
      ]
     },
     "execution_count": 21,
     "metadata": {},
     "output_type": "execute_result"
    }
   ],
   "source": [
    "#average trip duration q3\n",
    "q3_avg_trip_duration = (q3[\"Trip  Duration\"].mean()) / 60\n",
    "q3_avg_trip_duration"
   ]
  },
  {
   "cell_type": "code",
   "execution_count": 22,
   "metadata": {},
   "outputs": [
    {
     "data": {
      "text/plain": [
       "15.949324709944438"
      ]
     },
     "execution_count": 22,
     "metadata": {},
     "output_type": "execute_result"
    }
   ],
   "source": [
    "#average trip duration q4\n",
    "q4_avg_trip_duration = (q4[\"Trip  Duration\"].mean()) / 60\n",
    "q4_avg_trip_duration"
   ]
  },
  {
   "cell_type": "code",
   "execution_count": 31,
   "metadata": {},
   "outputs": [
    {
     "data": {
      "text/html": [
       "<div>\n",
       "<style scoped>\n",
       "    .dataframe tbody tr th:only-of-type {\n",
       "        vertical-align: middle;\n",
       "    }\n",
       "\n",
       "    .dataframe tbody tr th {\n",
       "        vertical-align: top;\n",
       "    }\n",
       "\n",
       "    .dataframe thead th {\n",
       "        text-align: right;\n",
       "    }\n",
       "</style>\n",
       "<table border=\"1\" class=\"dataframe\">\n",
       "  <thead>\n",
       "    <tr style=\"text-align: right;\">\n",
       "      <th></th>\n",
       "      <th>Q1</th>\n",
       "      <th>Q2</th>\n",
       "      <th>Q3</th>\n",
       "      <th>Q4</th>\n",
       "    </tr>\n",
       "  </thead>\n",
       "  <tbody>\n",
       "    <tr>\n",
       "      <th>0</th>\n",
       "      <td>13.446731</td>\n",
       "      <td>17.707599</td>\n",
       "      <td>18.542838</td>\n",
       "      <td>15.949325</td>\n",
       "    </tr>\n",
       "  </tbody>\n",
       "</table>\n",
       "</div>"
      ],
      "text/plain": [
       "          Q1         Q2         Q3         Q4\n",
       "0  13.446731  17.707599  18.542838  15.949325"
      ]
     },
     "execution_count": 31,
     "metadata": {},
     "output_type": "execute_result"
    }
   ],
   "source": [
    "avg_trip_duration = pd.DataFrame({\"Q1\": [q1_avg_trip_duration],\n",
    "                                 \"Q2\": q2_avg_trip_duration,\n",
    "                                 \"Q3\": q3_avg_trip_duration,\n",
    "                                 \"Q4\": q4_avg_trip_duration})\n",
    "avg_trip_duration"
   ]
  },
  {
   "cell_type": "code",
   "execution_count": null,
   "metadata": {},
   "outputs": [],
   "source": [
    "#create 8 bins for number of trips in 24hrs\n",
    "# create bins for 3hr time frame\n",
    "bins = [0,2,5,8,11,14,17,20,23]\n",
    "\n",
    "# create labels for the bins\n",
    "midnight = \"00:00 - 02:59\"\n",
    "three_am = \"03:00 - 05:59\"\n",
    "six_am = \"06:00 - 08:59\"\n",
    "nine_am = \"09:00 - 11:59\"\n",
    "noon = \"12:00 - 14:59\"\n",
    "three_pm = \"15:00 - 17:59\"\n",
    "six_pm = \"18:00 - 20:59\"\n",
    "nine_pm = \"21:00 - 23:59\"\n",
    "\n",
    "time_bins =[midnight, three_am, six_am, nine_am, noon, three_pm, six_pm, nine_pm]\n"
   ]
  },
  {
   "cell_type": "code",
   "execution_count": 185,
   "metadata": {},
   "outputs": [
    {
     "data": {
      "text/html": [
       "<div>\n",
       "<style scoped>\n",
       "    .dataframe tbody tr th:only-of-type {\n",
       "        vertical-align: middle;\n",
       "    }\n",
       "\n",
       "    .dataframe tbody tr th {\n",
       "        vertical-align: top;\n",
       "    }\n",
       "\n",
       "    .dataframe thead th {\n",
       "        text-align: right;\n",
       "    }\n",
       "</style>\n",
       "<table border=\"1\" class=\"dataframe\">\n",
       "  <thead>\n",
       "    <tr style=\"text-align: right;\">\n",
       "      <th></th>\n",
       "      <th>Start Time</th>\n",
       "      <th>Hour</th>\n",
       "    </tr>\n",
       "  </thead>\n",
       "  <tbody>\n",
       "    <tr>\n",
       "      <th>0</th>\n",
       "      <td>01/01/2019 00:08</td>\n",
       "      <td>0</td>\n",
       "    </tr>\n",
       "    <tr>\n",
       "      <th>1</th>\n",
       "      <td>01/01/2019 00:10</td>\n",
       "      <td>0</td>\n",
       "    </tr>\n",
       "    <tr>\n",
       "      <th>2</th>\n",
       "      <td>01/01/2019 00:15</td>\n",
       "      <td>0</td>\n",
       "    </tr>\n",
       "    <tr>\n",
       "      <th>3</th>\n",
       "      <td>01/01/2019 00:16</td>\n",
       "      <td>0</td>\n",
       "    </tr>\n",
       "    <tr>\n",
       "      <th>4</th>\n",
       "      <td>01/01/2019 00:19</td>\n",
       "      <td>0</td>\n",
       "    </tr>\n",
       "    <tr>\n",
       "      <th>...</th>\n",
       "      <td>...</td>\n",
       "      <td>...</td>\n",
       "    </tr>\n",
       "    <tr>\n",
       "      <th>189058</th>\n",
       "      <td>03/31/2019 23:45</td>\n",
       "      <td>23</td>\n",
       "    </tr>\n",
       "    <tr>\n",
       "      <th>189059</th>\n",
       "      <td>03/31/2019 23:46</td>\n",
       "      <td>23</td>\n",
       "    </tr>\n",
       "    <tr>\n",
       "      <th>189060</th>\n",
       "      <td>03/31/2019 23:49</td>\n",
       "      <td>23</td>\n",
       "    </tr>\n",
       "    <tr>\n",
       "      <th>189061</th>\n",
       "      <td>03/31/2019 23:55</td>\n",
       "      <td>23</td>\n",
       "    </tr>\n",
       "    <tr>\n",
       "      <th>189062</th>\n",
       "      <td>03/31/2019 23:55</td>\n",
       "      <td>23</td>\n",
       "    </tr>\n",
       "  </tbody>\n",
       "</table>\n",
       "<p>189063 rows × 2 columns</p>\n",
       "</div>"
      ],
      "text/plain": [
       "              Start Time  Hour\n",
       "0       01/01/2019 00:08     0\n",
       "1       01/01/2019 00:10     0\n",
       "2       01/01/2019 00:15     0\n",
       "3       01/01/2019 00:16     0\n",
       "4       01/01/2019 00:19     0\n",
       "...                  ...   ...\n",
       "189058  03/31/2019 23:45    23\n",
       "189059  03/31/2019 23:46    23\n",
       "189060  03/31/2019 23:49    23\n",
       "189061  03/31/2019 23:55    23\n",
       "189062  03/31/2019 23:55    23\n",
       "\n",
       "[189063 rows x 2 columns]"
      ]
     },
     "execution_count": 185,
     "metadata": {},
     "output_type": "execute_result"
    }
   ],
   "source": [
    "#Q1\n",
    "\n",
    "# convert column data into datetime, then assign to a variable\n",
    "q1_start_time_df = q1[[\"Start Time\"]]\n",
    "q1_start_time = pd.to_datetime(q1[\"Start Time\"])\n",
    "\n",
    "# get the hour portion and create a data frame\n",
    "q1_time_started = q1_start_time.dt.hour\n",
    "q1_time_started_df = pd.DataFrame(q1_time_started)\n",
    "\n",
    "# merge hour data to start_time_df\n",
    "q1_rides_df = q1_start_time_df.merge(q1_time_started_df, left_index=True, right_index=True)\n",
    "\n",
    "q1_rides_df = q1_rides_df.rename(columns={\"Start Time_x\" : \"Start Time\",\n",
    "                                             \"Start Time_y\" : \"Hour\"})\n",
    "\n",
    "#display ride_times_df\n",
    "q1_rides_df\n"
   ]
  },
  {
   "cell_type": "code",
   "execution_count": 190,
   "metadata": {},
   "outputs": [
    {
     "data": {
      "text/plain": [
       "189063"
      ]
     },
     "execution_count": 190,
     "metadata": {},
     "output_type": "execute_result"
    }
   ],
   "source": [
    "#get total number of rides for Q1\n",
    "q1_total_rides = len(q1_rides_df)\n",
    "q1_total_rides"
   ]
  },
  {
   "cell_type": "code",
   "execution_count": 188,
   "metadata": {},
   "outputs": [
    {
     "data": {
      "text/html": [
       "<div>\n",
       "<style scoped>\n",
       "    .dataframe tbody tr th:only-of-type {\n",
       "        vertical-align: middle;\n",
       "    }\n",
       "\n",
       "    .dataframe tbody tr th {\n",
       "        vertical-align: top;\n",
       "    }\n",
       "\n",
       "    .dataframe thead th {\n",
       "        text-align: right;\n",
       "    }\n",
       "</style>\n",
       "<table border=\"1\" class=\"dataframe\">\n",
       "  <thead>\n",
       "    <tr style=\"text-align: right;\">\n",
       "      <th></th>\n",
       "      <th>Total Rides</th>\n",
       "      <th>Percentage of Rides</th>\n",
       "    </tr>\n",
       "  </thead>\n",
       "  <tbody>\n",
       "    <tr>\n",
       "      <th>00:00 - 02:59</th>\n",
       "      <td>2902</td>\n",
       "      <td>1.53%</td>\n",
       "    </tr>\n",
       "    <tr>\n",
       "      <th>03:00 - 05:59</th>\n",
       "      <td>1457</td>\n",
       "      <td>0.77%</td>\n",
       "    </tr>\n",
       "    <tr>\n",
       "      <th>06:00 - 08:59</th>\n",
       "      <td>30837</td>\n",
       "      <td>16.31%</td>\n",
       "    </tr>\n",
       "    <tr>\n",
       "      <th>09:00 - 11:59</th>\n",
       "      <td>31221</td>\n",
       "      <td>16.51%</td>\n",
       "    </tr>\n",
       "    <tr>\n",
       "      <th>12:00 - 14:59</th>\n",
       "      <td>27623</td>\n",
       "      <td>14.61%</td>\n",
       "    </tr>\n",
       "    <tr>\n",
       "      <th>15:00 - 17:59</th>\n",
       "      <td>50861</td>\n",
       "      <td>26.90%</td>\n",
       "    </tr>\n",
       "    <tr>\n",
       "      <th>18:00 - 20:59</th>\n",
       "      <td>33058</td>\n",
       "      <td>17.49%</td>\n",
       "    </tr>\n",
       "    <tr>\n",
       "      <th>21:00 - 23:59</th>\n",
       "      <td>11104</td>\n",
       "      <td>5.87%</td>\n",
       "    </tr>\n",
       "  </tbody>\n",
       "</table>\n",
       "</div>"
      ],
      "text/plain": [
       "               Total Rides Percentage of Rides\n",
       "00:00 - 02:59         2902               1.53%\n",
       "03:00 - 05:59         1457               0.77%\n",
       "06:00 - 08:59        30837              16.31%\n",
       "09:00 - 11:59        31221              16.51%\n",
       "12:00 - 14:59        27623              14.61%\n",
       "15:00 - 17:59        50861              26.90%\n",
       "18:00 - 20:59        33058              17.49%\n",
       "21:00 - 23:59        11104               5.87%"
      ]
     },
     "execution_count": 188,
     "metadata": {},
     "output_type": "execute_result"
    }
   ],
   "source": [
    "#slice the data and place it into bins\n",
    "q1_rides_df[\"Time Group\"] = pd.cut(q1_rides_df[\"Hour\"], bins, labels=time_bins, include_lowest=True)\n",
    "\n",
    "q1_rides = q1_rides_df[\"Time Group\"].value_counts()\n",
    "q1_rides = q1_rides.sort_index()\n",
    "\n",
    "#get the percentage of riders per time group\n",
    "q1_pcts = (q1_rides / q1_total_rides * 100).map(\"{:.2f}%\".format)\n",
    "\n",
    "# create summary data frame to hold results\n",
    "q1_hour_bin_df = pd.DataFrame({\"Total Rides\" : q1_rides, \"Percentage of Rides\" : q1_pcts})\n",
    "\n",
    "# display rides summary table\n",
    "q1_hour_bin_df"
   ]
  },
  {
   "cell_type": "code",
   "execution_count": 189,
   "metadata": {},
   "outputs": [
    {
     "data": {
      "text/html": [
       "<div>\n",
       "<style scoped>\n",
       "    .dataframe tbody tr th:only-of-type {\n",
       "        vertical-align: middle;\n",
       "    }\n",
       "\n",
       "    .dataframe tbody tr th {\n",
       "        vertical-align: top;\n",
       "    }\n",
       "\n",
       "    .dataframe thead th {\n",
       "        text-align: right;\n",
       "    }\n",
       "</style>\n",
       "<table border=\"1\" class=\"dataframe\">\n",
       "  <thead>\n",
       "    <tr style=\"text-align: right;\">\n",
       "      <th></th>\n",
       "      <th>Start Time</th>\n",
       "      <th>Hour</th>\n",
       "    </tr>\n",
       "  </thead>\n",
       "  <tbody>\n",
       "    <tr>\n",
       "      <th>0</th>\n",
       "      <td>04/01/2019 00:04</td>\n",
       "      <td>0</td>\n",
       "    </tr>\n",
       "    <tr>\n",
       "      <th>1</th>\n",
       "      <td>04/01/2019 00:07</td>\n",
       "      <td>0</td>\n",
       "    </tr>\n",
       "    <tr>\n",
       "      <th>2</th>\n",
       "      <td>04/01/2019 00:08</td>\n",
       "      <td>0</td>\n",
       "    </tr>\n",
       "    <tr>\n",
       "      <th>3</th>\n",
       "      <td>04/01/2019 00:08</td>\n",
       "      <td>0</td>\n",
       "    </tr>\n",
       "    <tr>\n",
       "      <th>4</th>\n",
       "      <td>04/01/2019 00:09</td>\n",
       "      <td>0</td>\n",
       "    </tr>\n",
       "    <tr>\n",
       "      <th>...</th>\n",
       "      <td>...</td>\n",
       "      <td>...</td>\n",
       "    </tr>\n",
       "    <tr>\n",
       "      <th>651680</th>\n",
       "      <td>06/30/2019 23:59</td>\n",
       "      <td>23</td>\n",
       "    </tr>\n",
       "    <tr>\n",
       "      <th>651681</th>\n",
       "      <td>06/30/2019 23:59</td>\n",
       "      <td>23</td>\n",
       "    </tr>\n",
       "    <tr>\n",
       "      <th>651682</th>\n",
       "      <td>06/30/2019 23:59</td>\n",
       "      <td>23</td>\n",
       "    </tr>\n",
       "    <tr>\n",
       "      <th>651683</th>\n",
       "      <td>06/30/2019 23:59</td>\n",
       "      <td>23</td>\n",
       "    </tr>\n",
       "    <tr>\n",
       "      <th>651684</th>\n",
       "      <td>06/30/2019 23:59</td>\n",
       "      <td>23</td>\n",
       "    </tr>\n",
       "  </tbody>\n",
       "</table>\n",
       "<p>651685 rows × 2 columns</p>\n",
       "</div>"
      ],
      "text/plain": [
       "              Start Time  Hour\n",
       "0       04/01/2019 00:04     0\n",
       "1       04/01/2019 00:07     0\n",
       "2       04/01/2019 00:08     0\n",
       "3       04/01/2019 00:08     0\n",
       "4       04/01/2019 00:09     0\n",
       "...                  ...   ...\n",
       "651680  06/30/2019 23:59    23\n",
       "651681  06/30/2019 23:59    23\n",
       "651682  06/30/2019 23:59    23\n",
       "651683  06/30/2019 23:59    23\n",
       "651684  06/30/2019 23:59    23\n",
       "\n",
       "[651685 rows x 2 columns]"
      ]
     },
     "execution_count": 189,
     "metadata": {},
     "output_type": "execute_result"
    }
   ],
   "source": [
    "# Q2\n",
    "# convert column data into datetime, then assign to a variable\n",
    "q2_start_time_df = q2[[\"Start Time\"]]\n",
    "q2_start_time = pd.to_datetime(q2[\"Start Time\"])\n",
    "\n",
    "# get the hour portion and create a data frame\n",
    "q2_time_started = q2_start_time.dt.hour\n",
    "q2_time_started_df = pd.DataFrame(q2_time_started)\n",
    "\n",
    "# merge hour data to start_time_df\n",
    "q2_rides_df = q2_start_time_df.merge(q2_time_started_df, left_index=True, right_index=True)\n",
    "\n",
    "q2_rides_df = q2_rides_df.rename(columns={\"Start Time_x\" : \"Start Time\",\n",
    "                                             \"Start Time_y\" : \"Hour\"})\n",
    "\n",
    "#display ride_times_df\n",
    "q2_rides_df\n"
   ]
  },
  {
   "cell_type": "code",
   "execution_count": 191,
   "metadata": {},
   "outputs": [
    {
     "data": {
      "text/plain": [
       "651685"
      ]
     },
     "execution_count": 191,
     "metadata": {},
     "output_type": "execute_result"
    }
   ],
   "source": [
    "#get total number of rides for Q2\n",
    "q2_total_rides = len(q2_rides_df)\n",
    "q2_total_rides"
   ]
  },
  {
   "cell_type": "code",
   "execution_count": 192,
   "metadata": {},
   "outputs": [
    {
     "data": {
      "text/html": [
       "<div>\n",
       "<style scoped>\n",
       "    .dataframe tbody tr th:only-of-type {\n",
       "        vertical-align: middle;\n",
       "    }\n",
       "\n",
       "    .dataframe tbody tr th {\n",
       "        vertical-align: top;\n",
       "    }\n",
       "\n",
       "    .dataframe thead th {\n",
       "        text-align: right;\n",
       "    }\n",
       "</style>\n",
       "<table border=\"1\" class=\"dataframe\">\n",
       "  <thead>\n",
       "    <tr style=\"text-align: right;\">\n",
       "      <th></th>\n",
       "      <th>Total Rides</th>\n",
       "      <th>Percentage of Rides</th>\n",
       "    </tr>\n",
       "  </thead>\n",
       "  <tbody>\n",
       "    <tr>\n",
       "      <th>00:00 - 02:59</th>\n",
       "      <td>14412</td>\n",
       "      <td>2.21%</td>\n",
       "    </tr>\n",
       "    <tr>\n",
       "      <th>03:00 - 05:59</th>\n",
       "      <td>4709</td>\n",
       "      <td>0.72%</td>\n",
       "    </tr>\n",
       "    <tr>\n",
       "      <th>06:00 - 08:59</th>\n",
       "      <td>80983</td>\n",
       "      <td>12.43%</td>\n",
       "    </tr>\n",
       "    <tr>\n",
       "      <th>09:00 - 11:59</th>\n",
       "      <td>89977</td>\n",
       "      <td>13.81%</td>\n",
       "    </tr>\n",
       "    <tr>\n",
       "      <th>12:00 - 14:59</th>\n",
       "      <td>108351</td>\n",
       "      <td>16.63%</td>\n",
       "    </tr>\n",
       "    <tr>\n",
       "      <th>15:00 - 17:59</th>\n",
       "      <td>173078</td>\n",
       "      <td>26.56%</td>\n",
       "    </tr>\n",
       "    <tr>\n",
       "      <th>18:00 - 20:59</th>\n",
       "      <td>131640</td>\n",
       "      <td>20.20%</td>\n",
       "    </tr>\n",
       "    <tr>\n",
       "      <th>21:00 - 23:59</th>\n",
       "      <td>48535</td>\n",
       "      <td>7.45%</td>\n",
       "    </tr>\n",
       "  </tbody>\n",
       "</table>\n",
       "</div>"
      ],
      "text/plain": [
       "               Total Rides Percentage of Rides\n",
       "00:00 - 02:59        14412               2.21%\n",
       "03:00 - 05:59         4709               0.72%\n",
       "06:00 - 08:59        80983              12.43%\n",
       "09:00 - 11:59        89977              13.81%\n",
       "12:00 - 14:59       108351              16.63%\n",
       "15:00 - 17:59       173078              26.56%\n",
       "18:00 - 20:59       131640              20.20%\n",
       "21:00 - 23:59        48535               7.45%"
      ]
     },
     "execution_count": 192,
     "metadata": {},
     "output_type": "execute_result"
    }
   ],
   "source": [
    "#slice the data and place it into bins\n",
    "q2_rides_df[\"Time Group\"] = pd.cut(q2_rides_df[\"Hour\"], bins, labels=time_bins, include_lowest=True)\n",
    "\n",
    "q2_rides = q2_rides_df[\"Time Group\"].value_counts()\n",
    "q2_rides = q2_rides.sort_index()\n",
    "\n",
    "#get the percentage of riders per time group\n",
    "q2_pcts = (q2_rides / q2_total_rides * 100).map(\"{:.2f}%\".format)\n",
    "\n",
    "# create summary data frame to hold results\n",
    "q2_hour_bin_df = pd.DataFrame({\"Total Rides\" : q2_rides, \"Percentage of Rides\" : q2_pcts})\n",
    "\n",
    "# display rides summary table\n",
    "q2_hour_bin_df"
   ]
  },
  {
   "cell_type": "code",
   "execution_count": 193,
   "metadata": {},
   "outputs": [
    {
     "data": {
      "text/html": [
       "<div>\n",
       "<style scoped>\n",
       "    .dataframe tbody tr th:only-of-type {\n",
       "        vertical-align: middle;\n",
       "    }\n",
       "\n",
       "    .dataframe tbody tr th {\n",
       "        vertical-align: top;\n",
       "    }\n",
       "\n",
       "    .dataframe thead th {\n",
       "        text-align: right;\n",
       "    }\n",
       "</style>\n",
       "<table border=\"1\" class=\"dataframe\">\n",
       "  <thead>\n",
       "    <tr style=\"text-align: right;\">\n",
       "      <th></th>\n",
       "      <th>Start Time</th>\n",
       "      <th>Hour</th>\n",
       "    </tr>\n",
       "  </thead>\n",
       "  <tbody>\n",
       "    <tr>\n",
       "      <th>0</th>\n",
       "      <td>07/01/2019 00:00</td>\n",
       "      <td>0</td>\n",
       "    </tr>\n",
       "    <tr>\n",
       "      <th>1</th>\n",
       "      <td>07/01/2019 00:00</td>\n",
       "      <td>0</td>\n",
       "    </tr>\n",
       "    <tr>\n",
       "      <th>2</th>\n",
       "      <td>07/01/2019 00:00</td>\n",
       "      <td>0</td>\n",
       "    </tr>\n",
       "    <tr>\n",
       "      <th>3</th>\n",
       "      <td>07/01/2019 00:00</td>\n",
       "      <td>0</td>\n",
       "    </tr>\n",
       "    <tr>\n",
       "      <th>4</th>\n",
       "      <td>07/01/2019 00:01</td>\n",
       "      <td>0</td>\n",
       "    </tr>\n",
       "    <tr>\n",
       "      <th>...</th>\n",
       "      <td>...</td>\n",
       "      <td>...</td>\n",
       "    </tr>\n",
       "    <tr>\n",
       "      <th>1130348</th>\n",
       "      <td>09/30/2019 23:58</td>\n",
       "      <td>23</td>\n",
       "    </tr>\n",
       "    <tr>\n",
       "      <th>1130349</th>\n",
       "      <td>09/30/2019 23:58</td>\n",
       "      <td>23</td>\n",
       "    </tr>\n",
       "    <tr>\n",
       "      <th>1130350</th>\n",
       "      <td>09/30/2019 23:59</td>\n",
       "      <td>23</td>\n",
       "    </tr>\n",
       "    <tr>\n",
       "      <th>1130351</th>\n",
       "      <td>09/30/2019 23:59</td>\n",
       "      <td>23</td>\n",
       "    </tr>\n",
       "    <tr>\n",
       "      <th>1130352</th>\n",
       "      <td>09/30/2019 23:59</td>\n",
       "      <td>23</td>\n",
       "    </tr>\n",
       "  </tbody>\n",
       "</table>\n",
       "<p>1130353 rows × 2 columns</p>\n",
       "</div>"
      ],
      "text/plain": [
       "               Start Time  Hour\n",
       "0        07/01/2019 00:00     0\n",
       "1        07/01/2019 00:00     0\n",
       "2        07/01/2019 00:00     0\n",
       "3        07/01/2019 00:00     0\n",
       "4        07/01/2019 00:01     0\n",
       "...                   ...   ...\n",
       "1130348  09/30/2019 23:58    23\n",
       "1130349  09/30/2019 23:58    23\n",
       "1130350  09/30/2019 23:59    23\n",
       "1130351  09/30/2019 23:59    23\n",
       "1130352  09/30/2019 23:59    23\n",
       "\n",
       "[1130353 rows x 2 columns]"
      ]
     },
     "execution_count": 193,
     "metadata": {},
     "output_type": "execute_result"
    }
   ],
   "source": [
    "# Q3\n",
    "# convert column data into datetime, then assign to a variable\n",
    "q3_start_time_df = q3[[\"Start Time\"]]\n",
    "q3_start_time = pd.to_datetime(q3[\"Start Time\"])\n",
    "\n",
    "# get the hour portion and create a data frame\n",
    "q3_time_started = q3_start_time.dt.hour\n",
    "q3_time_started_df = pd.DataFrame(q3_time_started)\n",
    "\n",
    "# merge hour data to start_time_df\n",
    "q3_rides_df = q3_start_time_df.merge(q3_time_started_df, left_index=True, right_index=True)\n",
    "\n",
    "q3_rides_df = q3_rides_df.rename(columns={\"Start Time_x\" : \"Start Time\",\n",
    "                                             \"Start Time_y\" : \"Hour\"})\n",
    "\n",
    "#display ride_times_df\n",
    "q3_rides_df\n"
   ]
  },
  {
   "cell_type": "code",
   "execution_count": 194,
   "metadata": {},
   "outputs": [
    {
     "data": {
      "text/plain": [
       "1130353"
      ]
     },
     "execution_count": 194,
     "metadata": {},
     "output_type": "execute_result"
    }
   ],
   "source": [
    "#get total number of rides for Q3\n",
    "q3_total_rides = len(q3_rides_df)\n",
    "q3_total_rides"
   ]
  },
  {
   "cell_type": "code",
   "execution_count": 195,
   "metadata": {},
   "outputs": [
    {
     "data": {
      "text/html": [
       "<div>\n",
       "<style scoped>\n",
       "    .dataframe tbody tr th:only-of-type {\n",
       "        vertical-align: middle;\n",
       "    }\n",
       "\n",
       "    .dataframe tbody tr th {\n",
       "        vertical-align: top;\n",
       "    }\n",
       "\n",
       "    .dataframe thead th {\n",
       "        text-align: right;\n",
       "    }\n",
       "</style>\n",
       "<table border=\"1\" class=\"dataframe\">\n",
       "  <thead>\n",
       "    <tr style=\"text-align: right;\">\n",
       "      <th></th>\n",
       "      <th>Total Rides</th>\n",
       "      <th>Percentage of Rides</th>\n",
       "    </tr>\n",
       "  </thead>\n",
       "  <tbody>\n",
       "    <tr>\n",
       "      <th>00:00 - 02:59</th>\n",
       "      <td>24238</td>\n",
       "      <td>2.14%</td>\n",
       "    </tr>\n",
       "    <tr>\n",
       "      <th>03:00 - 05:59</th>\n",
       "      <td>8553</td>\n",
       "      <td>0.76%</td>\n",
       "    </tr>\n",
       "    <tr>\n",
       "      <th>06:00 - 08:59</th>\n",
       "      <td>134051</td>\n",
       "      <td>11.86%</td>\n",
       "    </tr>\n",
       "    <tr>\n",
       "      <th>09:00 - 11:59</th>\n",
       "      <td>150285</td>\n",
       "      <td>13.30%</td>\n",
       "    </tr>\n",
       "    <tr>\n",
       "      <th>12:00 - 14:59</th>\n",
       "      <td>181697</td>\n",
       "      <td>16.07%</td>\n",
       "    </tr>\n",
       "    <tr>\n",
       "      <th>15:00 - 17:59</th>\n",
       "      <td>292525</td>\n",
       "      <td>25.88%</td>\n",
       "    </tr>\n",
       "    <tr>\n",
       "      <th>18:00 - 20:59</th>\n",
       "      <td>243597</td>\n",
       "      <td>21.55%</td>\n",
       "    </tr>\n",
       "    <tr>\n",
       "      <th>21:00 - 23:59</th>\n",
       "      <td>95407</td>\n",
       "      <td>8.44%</td>\n",
       "    </tr>\n",
       "  </tbody>\n",
       "</table>\n",
       "</div>"
      ],
      "text/plain": [
       "               Total Rides Percentage of Rides\n",
       "00:00 - 02:59        24238               2.14%\n",
       "03:00 - 05:59         8553               0.76%\n",
       "06:00 - 08:59       134051              11.86%\n",
       "09:00 - 11:59       150285              13.30%\n",
       "12:00 - 14:59       181697              16.07%\n",
       "15:00 - 17:59       292525              25.88%\n",
       "18:00 - 20:59       243597              21.55%\n",
       "21:00 - 23:59        95407               8.44%"
      ]
     },
     "execution_count": 195,
     "metadata": {},
     "output_type": "execute_result"
    }
   ],
   "source": [
    "#slice the data and place it into bins\n",
    "q3_rides_df[\"Time Group\"] = pd.cut(q3_rides_df[\"Hour\"], bins, labels=time_bins, include_lowest=True)\n",
    "\n",
    "q3_rides = q3_rides_df[\"Time Group\"].value_counts()\n",
    "q3_rides = q3_rides.sort_index()\n",
    "\n",
    "#get the percentage of riders per time group\n",
    "q3_pcts = (q3_rides / q3_total_rides * 100).map(\"{:.2f}%\".format)\n",
    "\n",
    "# create summary data frame to hold results\n",
    "q3_hour_bin_df = pd.DataFrame({\"Total Rides\" : q3_rides, \"Percentage of Rides\" : q3_pcts})\n",
    "\n",
    "# display rides summary table\n",
    "q3_hour_bin_df"
   ]
  },
  {
   "cell_type": "code",
   "execution_count": 196,
   "metadata": {},
   "outputs": [
    {
     "data": {
      "text/html": [
       "<div>\n",
       "<style scoped>\n",
       "    .dataframe tbody tr th:only-of-type {\n",
       "        vertical-align: middle;\n",
       "    }\n",
       "\n",
       "    .dataframe tbody tr th {\n",
       "        vertical-align: top;\n",
       "    }\n",
       "\n",
       "    .dataframe thead th {\n",
       "        text-align: right;\n",
       "    }\n",
       "</style>\n",
       "<table border=\"1\" class=\"dataframe\">\n",
       "  <thead>\n",
       "    <tr style=\"text-align: right;\">\n",
       "      <th></th>\n",
       "      <th>Start Time</th>\n",
       "      <th>Hour</th>\n",
       "    </tr>\n",
       "  </thead>\n",
       "  <tbody>\n",
       "    <tr>\n",
       "      <th>0</th>\n",
       "      <td>10/01/2019 00:00</td>\n",
       "      <td>0</td>\n",
       "    </tr>\n",
       "    <tr>\n",
       "      <th>1</th>\n",
       "      <td>10/01/2019 00:00</td>\n",
       "      <td>0</td>\n",
       "    </tr>\n",
       "    <tr>\n",
       "      <th>2</th>\n",
       "      <td>10/01/2019 00:00</td>\n",
       "      <td>0</td>\n",
       "    </tr>\n",
       "    <tr>\n",
       "      <th>3</th>\n",
       "      <td>10/01/2019 00:02</td>\n",
       "      <td>0</td>\n",
       "    </tr>\n",
       "    <tr>\n",
       "      <th>4</th>\n",
       "      <td>10/01/2019 00:02</td>\n",
       "      <td>0</td>\n",
       "    </tr>\n",
       "    <tr>\n",
       "      <th>...</th>\n",
       "      <td>...</td>\n",
       "      <td>...</td>\n",
       "    </tr>\n",
       "    <tr>\n",
       "      <th>468411</th>\n",
       "      <td>12/31/2019 23:39</td>\n",
       "      <td>23</td>\n",
       "    </tr>\n",
       "    <tr>\n",
       "      <th>468412</th>\n",
       "      <td>12/31/2019 23:45</td>\n",
       "      <td>23</td>\n",
       "    </tr>\n",
       "    <tr>\n",
       "      <th>468413</th>\n",
       "      <td>12/31/2019 23:51</td>\n",
       "      <td>23</td>\n",
       "    </tr>\n",
       "    <tr>\n",
       "      <th>468414</th>\n",
       "      <td>12/31/2019 23:55</td>\n",
       "      <td>23</td>\n",
       "    </tr>\n",
       "    <tr>\n",
       "      <th>468415</th>\n",
       "      <td>12/31/2019 23:58</td>\n",
       "      <td>23</td>\n",
       "    </tr>\n",
       "  </tbody>\n",
       "</table>\n",
       "<p>468416 rows × 2 columns</p>\n",
       "</div>"
      ],
      "text/plain": [
       "              Start Time  Hour\n",
       "0       10/01/2019 00:00     0\n",
       "1       10/01/2019 00:00     0\n",
       "2       10/01/2019 00:00     0\n",
       "3       10/01/2019 00:02     0\n",
       "4       10/01/2019 00:02     0\n",
       "...                  ...   ...\n",
       "468411  12/31/2019 23:39    23\n",
       "468412  12/31/2019 23:45    23\n",
       "468413  12/31/2019 23:51    23\n",
       "468414  12/31/2019 23:55    23\n",
       "468415  12/31/2019 23:58    23\n",
       "\n",
       "[468416 rows x 2 columns]"
      ]
     },
     "execution_count": 196,
     "metadata": {},
     "output_type": "execute_result"
    }
   ],
   "source": [
    "# Q4\n",
    "# convert column data into datetime, then assign to a variable\n",
    "q4_start_time_df = q4[[\"Start Time\"]]\n",
    "q4_start_time = pd.to_datetime(q4[\"Start Time\"])\n",
    "\n",
    "# get the hour portion and create a data frame\n",
    "q4_time_started = q4_start_time.dt.hour\n",
    "q4_time_started_df = pd.DataFrame(q4_time_started)\n",
    "\n",
    "# merge hour data to start_time_df\n",
    "q4_rides_df = q4_start_time_df.merge(q4_time_started_df, left_index=True, right_index=True)\n",
    "\n",
    "q4_rides_df = q4_rides_df.rename(columns={\"Start Time_x\" : \"Start Time\",\n",
    "                                             \"Start Time_y\" : \"Hour\"})\n",
    "\n",
    "#display ride_times_df\n",
    "q4_rides_df\n"
   ]
  },
  {
   "cell_type": "code",
   "execution_count": 197,
   "metadata": {},
   "outputs": [
    {
     "data": {
      "text/plain": [
       "468416"
      ]
     },
     "execution_count": 197,
     "metadata": {},
     "output_type": "execute_result"
    }
   ],
   "source": [
    "#get total number of rides for Q4\n",
    "q4_total_rides = len(q4_rides_df)\n",
    "q4_total_rides"
   ]
  },
  {
   "cell_type": "code",
   "execution_count": 198,
   "metadata": {},
   "outputs": [
    {
     "data": {
      "text/html": [
       "<div>\n",
       "<style scoped>\n",
       "    .dataframe tbody tr th:only-of-type {\n",
       "        vertical-align: middle;\n",
       "    }\n",
       "\n",
       "    .dataframe tbody tr th {\n",
       "        vertical-align: top;\n",
       "    }\n",
       "\n",
       "    .dataframe thead th {\n",
       "        text-align: right;\n",
       "    }\n",
       "</style>\n",
       "<table border=\"1\" class=\"dataframe\">\n",
       "  <thead>\n",
       "    <tr style=\"text-align: right;\">\n",
       "      <th></th>\n",
       "      <th>Total Rides</th>\n",
       "      <th>Percentage of Rides</th>\n",
       "    </tr>\n",
       "  </thead>\n",
       "  <tbody>\n",
       "    <tr>\n",
       "      <th>00:00 - 02:59</th>\n",
       "      <td>9555</td>\n",
       "      <td>2.04%</td>\n",
       "    </tr>\n",
       "    <tr>\n",
       "      <th>03:00 - 05:59</th>\n",
       "      <td>4521</td>\n",
       "      <td>0.97%</td>\n",
       "    </tr>\n",
       "    <tr>\n",
       "      <th>06:00 - 08:59</th>\n",
       "      <td>74133</td>\n",
       "      <td>15.83%</td>\n",
       "    </tr>\n",
       "    <tr>\n",
       "      <th>09:00 - 11:59</th>\n",
       "      <td>73546</td>\n",
       "      <td>15.70%</td>\n",
       "    </tr>\n",
       "    <tr>\n",
       "      <th>12:00 - 14:59</th>\n",
       "      <td>72067</td>\n",
       "      <td>15.39%</td>\n",
       "    </tr>\n",
       "    <tr>\n",
       "      <th>15:00 - 17:59</th>\n",
       "      <td>121593</td>\n",
       "      <td>25.96%</td>\n",
       "    </tr>\n",
       "    <tr>\n",
       "      <th>18:00 - 20:59</th>\n",
       "      <td>81069</td>\n",
       "      <td>17.31%</td>\n",
       "    </tr>\n",
       "    <tr>\n",
       "      <th>21:00 - 23:59</th>\n",
       "      <td>31932</td>\n",
       "      <td>6.82%</td>\n",
       "    </tr>\n",
       "  </tbody>\n",
       "</table>\n",
       "</div>"
      ],
      "text/plain": [
       "               Total Rides Percentage of Rides\n",
       "00:00 - 02:59         9555               2.04%\n",
       "03:00 - 05:59         4521               0.97%\n",
       "06:00 - 08:59        74133              15.83%\n",
       "09:00 - 11:59        73546              15.70%\n",
       "12:00 - 14:59        72067              15.39%\n",
       "15:00 - 17:59       121593              25.96%\n",
       "18:00 - 20:59        81069              17.31%\n",
       "21:00 - 23:59        31932               6.82%"
      ]
     },
     "execution_count": 198,
     "metadata": {},
     "output_type": "execute_result"
    }
   ],
   "source": [
    "#slice the data and place it into bins\n",
    "q4_rides_df[\"Time Group\"] = pd.cut(q4_rides_df[\"Hour\"], bins, labels=time_bins, include_lowest=True)\n",
    "\n",
    "q4_rides = q4_rides_df[\"Time Group\"].value_counts()\n",
    "q4_rides = q4_rides.sort_index()\n",
    "\n",
    "#get the percentage of riders per time group\n",
    "q4_pcts = (q4_rides / q4_total_rides * 100).map(\"{:.2f}%\".format)\n",
    "\n",
    "# create summary data frame to hold results\n",
    "q4_hour_bin_df = pd.DataFrame({\"Total Rides\" : q4_rides, \"Percentage of Rides\" : q4_pcts})\n",
    "\n",
    "# display rides summary table\n",
    "q4_hour_bin_df"
   ]
  },
  {
   "cell_type": "code",
   "execution_count": null,
   "metadata": {},
   "outputs": [],
   "source": []
  }
 ],
 "metadata": {
  "kernelspec": {
   "display_name": "Python 3",
   "language": "python",
   "name": "python3"
  },
  "language_info": {
   "codemirror_mode": {
    "name": "ipython",
    "version": 3
   },
   "file_extension": ".py",
   "mimetype": "text/x-python",
   "name": "python",
   "nbconvert_exporter": "python",
   "pygments_lexer": "ipython3",
   "version": "3.8.3"
  }
 },
 "nbformat": 4,
 "nbformat_minor": 4
}
