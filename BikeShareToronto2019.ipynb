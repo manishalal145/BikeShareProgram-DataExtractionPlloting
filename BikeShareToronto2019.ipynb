{
 "cells": [
  {
   "cell_type": "code",
   "execution_count": 155,
   "metadata": {},
   "outputs": [],
   "source": [
    "# import dependencies\n",
    "import os\n",
    "import matplotlib.pyplot as plt\n",
    "import pandas as pd\n",
    "import numpy as np\n",
    "import scipy.stats as st\n",
    "import requests\n",
    "import datetime as dt\n",
    "import seaborn as sns\n",
    "import matplotlib.patches as mpatches"
   ]
  },
  {
   "cell_type": "code",
   "execution_count": 74,
   "metadata": {},
   "outputs": [],
   "source": [
    "toronto_Q1_path = os.path.join(\"Resources/Toronto\", \"2019-Q1.csv\")\n",
    "toronto_Q2_path = os.path.join(\"Resources/Toronto\", \"2019-Q2.csv\")\n",
    "toronto_Q3_path = os.path.join(\"Resources/Toronto\", \"2019-Q3.csv\")\n",
    "toronto_Q4_path = os.path.join(\"Resources/Toronto\", \"2019-Q4.csv\")\n",
    "\n",
    "q1 = pd.read_csv(toronto_Q1_path, encoding=\"utf=8\")\n",
    "q2 = pd.read_csv(toronto_Q2_path, encoding=\"utf=8\")\n",
    "q3 = pd.read_csv(toronto_Q3_path, encoding=\"utf=8\")\n",
    "q4 = pd.read_csv(toronto_Q4_path, encoding=\"utf=8\")\n"
   ]
  },
  {
   "cell_type": "code",
   "execution_count": 75,
   "metadata": {
    "scrolled": true
   },
   "outputs": [
    {
     "name": "stdout",
     "output_type": "stream",
     "text": [
      "Q1: 189063 Q2: 651685 Q3: 1130353 Q4: 468416 Total: 2439517\n"
     ]
    }
   ],
   "source": [
    "#Trip Id\tSubscription Id\tTrip Duration\tStart Station Id\tStart Time\tStart Station Name\tEnd Station Id\tEnd Time\tEnd Station Name\tBike Id\tUser Type\n",
    "#summary data frame\n",
    "q1_total = q1.count()[\"Trip Id\"]\n",
    "q2_total = q2.count()[\"Trip Id\"]\n",
    "q3_total = q3.count()[\"Trip Id\"]\n",
    "q4_total = q4.count()[\"Trip Id\"]\n",
    "total_trips = q1_total + q2_total + q3_total + q4_total\n",
    "total_trips\n",
    "print(f\"Q1: {q1_total} Q2: {q2_total} Q3: {q3_total} Q4: {q4_total} Total: {total_trips}\")"
   ]
  },
  {
   "cell_type": "code",
   "execution_count": 76,
   "metadata": {},
   "outputs": [
    {
     "data": {
      "text/plain": [
       "359"
      ]
     },
     "execution_count": 76,
     "metadata": {},
     "output_type": "execute_result"
    }
   ],
   "source": [
    "#get all station ids\n",
    "q1_uniq_start = q1[\"Start Station Id\"].nunique() #359\n",
    "q1_uniq_end= q1[\"End Station Id\"].nunique()\n",
    "q1_uniq_start\n",
    "q1_uniq_end"
   ]
  },
  {
   "cell_type": "code",
   "execution_count": 77,
   "metadata": {},
   "outputs": [],
   "source": [
    "#625 all over toronto\n",
    "#get all unique stations\n",
    "q1_start_stn = q1[\"Start Station Id\"]\n",
    "q1_end_stn = q1[\"End Station Id\"]\n",
    "toronto_stations = []  #359\n",
    "\n",
    "q2_start_stn = q2[\"Start Station Id\"]\n",
    "q2_end_stn = q2[\"End Station Id\"]\n",
    "\n",
    "q3_start_stn = q3[\"Start Station Id\"]\n",
    "q3_end_stn = q3[\"End Station Id\"]\n",
    "\n",
    "q4_start_stn = q4[\"Start Station Id\"]\n",
    "q4_end_stn = q4[\"End Station Id\"]\n"
   ]
  },
  {
   "cell_type": "code",
   "execution_count": 78,
   "metadata": {},
   "outputs": [],
   "source": [
    "for x in range(len(q1)):\n",
    "    station = q1_start_stn[x]\n",
    "    if station not in toronto_stations:\n",
    "        toronto_stations.append(station)\n",
    "\n",
    "for x in range(len(q1)):\n",
    "    station = q1_end_stn[x]\n",
    "    if station not in toronto_stations:\n",
    "        toronto_stations.append(station)\n"
   ]
  },
  {
   "cell_type": "code",
   "execution_count": 79,
   "metadata": {},
   "outputs": [
    {
     "data": {
      "text/plain": [
       "359"
      ]
     },
     "execution_count": 79,
     "metadata": {},
     "output_type": "execute_result"
    }
   ],
   "source": [
    "len(toronto_stations)"
   ]
  },
  {
   "cell_type": "code",
   "execution_count": 80,
   "metadata": {},
   "outputs": [],
   "source": [
    "for x in range(len(q2)):\n",
    "    station = q2_start_stn[x]\n",
    "    if station not in toronto_stations:\n",
    "        toronto_stations.append(station)\n",
    "\n",
    "for x in range(len(q2)):\n",
    "    station = q2_end_stn[x]\n",
    "    if station not in toronto_stations:\n",
    "        toronto_stations.append(station)\n"
   ]
  },
  {
   "cell_type": "code",
   "execution_count": 81,
   "metadata": {},
   "outputs": [
    {
     "data": {
      "text/plain": [
       "372"
      ]
     },
     "execution_count": 81,
     "metadata": {},
     "output_type": "execute_result"
    }
   ],
   "source": [
    "len(toronto_stations)"
   ]
  },
  {
   "cell_type": "code",
   "execution_count": 82,
   "metadata": {},
   "outputs": [
    {
     "data": {
      "text/plain": [
       "489"
      ]
     },
     "execution_count": 82,
     "metadata": {},
     "output_type": "execute_result"
    }
   ],
   "source": [
    "for x in range(len(q3)):\n",
    "    station = q3_start_stn[x]\n",
    "    if station not in toronto_stations:\n",
    "        toronto_stations.append(station)\n",
    "\n",
    "for x in range(len(q3)):\n",
    "    station = q3_end_stn[x]\n",
    "    if station not in toronto_stations:\n",
    "        toronto_stations.append(station)\n",
    "\n",
    "len(toronto_stations)"
   ]
  },
  {
   "cell_type": "code",
   "execution_count": 83,
   "metadata": {},
   "outputs": [
    {
     "data": {
      "text/plain": [
       "923"
      ]
     },
     "execution_count": 83,
     "metadata": {},
     "output_type": "execute_result"
    }
   ],
   "source": [
    "for x in range(len(q4)):\n",
    "    station = q4_start_stn[x]\n",
    "    if station not in toronto_stations:\n",
    "        toronto_stations.append(station)\n",
    "\n",
    "for x in range(len(q4)):\n",
    "    station = q4_end_stn[x]\n",
    "    if station not in toronto_stations:\n",
    "        toronto_stations.append(station)\n",
    "\n",
    "len(toronto_stations)"
   ]
  },
  {
   "cell_type": "code",
   "execution_count": 84,
   "metadata": {},
   "outputs": [
    {
     "name": "stdout",
     "output_type": "stream",
     "text": [
      "Unique Users for Q1: 11030 | Q2: 66094 | Q3: 130570 | Q4: 32658\n",
      "240352\n"
     ]
    }
   ],
   "source": [
    "#unique number of users for q1\n",
    "q1_total_users = q1[\"Subscription Id\"].nunique()\n",
    "\n",
    "q2_total_users = q2[\"Subscription Id\"].nunique()\n",
    "\n",
    "q3_total_users = q3[\"Subscription Id\"].nunique()\n",
    "\n",
    "q4_total_users = q4[\"Subscription Id\"].nunique()\n",
    "\n",
    "print(f\"Unique Users for Q1: {q1_total_users} | Q2: {q2_total_users} | \\\n",
    "Q3: {q3_total_users} | Q4: {q4_total_users}\")\n",
    "\n",
    "print(q1_total_users + q2_total_users + q3_total_users + q4_total_users)"
   ]
  },
  {
   "cell_type": "code",
   "execution_count": 85,
   "metadata": {},
   "outputs": [
    {
     "data": {
      "text/plain": [
       "11030"
      ]
     },
     "execution_count": 85,
     "metadata": {},
     "output_type": "execute_result"
    }
   ],
   "source": [
    "# get unique users for the year\n",
    "q1_users = q1[\"Subscription Id\"].unique()\n",
    "q2_users = q2[\"Subscription Id\"].unique()\n",
    "q3_users = q3[\"Subscription Id\"].unique()\n",
    "q4_users = q4[\"Subscription Id\"].unique()\n",
    "\n",
    "total_users = []\n",
    "\n",
    "for x in range(len(q1_users)):\n",
    "    user = q1_users[x]\n",
    "    if user not in total_users:\n",
    "        total_users.append(user)\n",
    "len(total_users)"
   ]
  },
  {
   "cell_type": "code",
   "execution_count": 86,
   "metadata": {},
   "outputs": [
    {
     "data": {
      "text/plain": [
       "70509"
      ]
     },
     "execution_count": 86,
     "metadata": {},
     "output_type": "execute_result"
    }
   ],
   "source": [
    "for x in range(len(q2_users)):\n",
    "    user = q2_users[x]\n",
    "    if user not in total_users:\n",
    "        total_users.append(user)\n",
    "len(total_users)"
   ]
  },
  {
   "cell_type": "code",
   "execution_count": 87,
   "metadata": {},
   "outputs": [
    {
     "data": {
      "text/plain": [
       "190307"
      ]
     },
     "execution_count": 87,
     "metadata": {},
     "output_type": "execute_result"
    }
   ],
   "source": [
    "for x in range(len(q3_users)):\n",
    "    user = q3_users[x]\n",
    "    if user not in total_users:\n",
    "        total_users.append(user)\n",
    "len(total_users)"
   ]
  },
  {
   "cell_type": "code",
   "execution_count": 88,
   "metadata": {},
   "outputs": [
    {
     "data": {
      "text/plain": [
       "211763"
      ]
     },
     "execution_count": 88,
     "metadata": {},
     "output_type": "execute_result"
    }
   ],
   "source": [
    "for x in range(len(q4_users)):\n",
    "    user = q4_users[x]\n",
    "    if user not in total_users:\n",
    "        total_users.append(user)\n",
    "len(total_users)"
   ]
  },
  {
   "cell_type": "code",
   "execution_count": null,
   "metadata": {},
   "outputs": [],
   "source": [
    "print(len(total_users))"
   ]
  },
  {
   "cell_type": "code",
   "execution_count": 90,
   "metadata": {},
   "outputs": [
    {
     "data": {
      "text/html": [
       "<div>\n",
       "<style scoped>\n",
       "    .dataframe tbody tr th:only-of-type {\n",
       "        vertical-align: middle;\n",
       "    }\n",
       "\n",
       "    .dataframe tbody tr th {\n",
       "        vertical-align: top;\n",
       "    }\n",
       "\n",
       "    .dataframe thead th {\n",
       "        text-align: right;\n",
       "    }\n",
       "</style>\n",
       "<table border=\"1\" class=\"dataframe\">\n",
       "  <thead>\n",
       "    <tr style=\"text-align: right;\">\n",
       "      <th></th>\n",
       "      <th>Total Count</th>\n",
       "    </tr>\n",
       "  </thead>\n",
       "  <tbody>\n",
       "    <tr>\n",
       "      <th>Annual Member</th>\n",
       "      <td>7654</td>\n",
       "    </tr>\n",
       "    <tr>\n",
       "      <th>Casual Member</th>\n",
       "      <td>3376</td>\n",
       "    </tr>\n",
       "  </tbody>\n",
       "</table>\n",
       "</div>"
      ],
      "text/plain": [
       "               Total Count\n",
       "Annual Member         7654\n",
       "Casual Member         3376"
      ]
     },
     "execution_count": 90,
     "metadata": {},
     "output_type": "execute_result"
    }
   ],
   "source": [
    "#User Type count Q1\n",
    "q1_user_type = q1[[\"Subscription Id\", \"User Type\"]].drop_duplicates()\n",
    "q1_user_type_df = pd.DataFrame({\"Total Count\" : q1_user_type[\"User Type\"].value_counts()})\n",
    "q1_user_type_df"
   ]
  },
  {
   "cell_type": "code",
   "execution_count": 91,
   "metadata": {},
   "outputs": [
    {
     "data": {
      "text/html": [
       "<div>\n",
       "<style scoped>\n",
       "    .dataframe tbody tr th:only-of-type {\n",
       "        vertical-align: middle;\n",
       "    }\n",
       "\n",
       "    .dataframe tbody tr th {\n",
       "        vertical-align: top;\n",
       "    }\n",
       "\n",
       "    .dataframe thead th {\n",
       "        text-align: right;\n",
       "    }\n",
       "</style>\n",
       "<table border=\"1\" class=\"dataframe\">\n",
       "  <thead>\n",
       "    <tr style=\"text-align: right;\">\n",
       "      <th></th>\n",
       "      <th>Total Count</th>\n",
       "    </tr>\n",
       "  </thead>\n",
       "  <tbody>\n",
       "    <tr>\n",
       "      <th>Casual Member</th>\n",
       "      <td>51329</td>\n",
       "    </tr>\n",
       "    <tr>\n",
       "      <th>Annual Member</th>\n",
       "      <td>14765</td>\n",
       "    </tr>\n",
       "  </tbody>\n",
       "</table>\n",
       "</div>"
      ],
      "text/plain": [
       "               Total Count\n",
       "Casual Member        51329\n",
       "Annual Member        14765"
      ]
     },
     "execution_count": 91,
     "metadata": {},
     "output_type": "execute_result"
    }
   ],
   "source": [
    "#User Type count Q2\n",
    "q2_user_type = q2[[\"Subscription Id\", \"User Type\"]].drop_duplicates()\n",
    "q2_user_type_df = pd.DataFrame({\"Total Count\" : q2_user_type[\"User Type\"].value_counts()})\n",
    "q2_user_type_df"
   ]
  },
  {
   "cell_type": "code",
   "execution_count": 92,
   "metadata": {},
   "outputs": [
    {
     "data": {
      "text/html": [
       "<div>\n",
       "<style scoped>\n",
       "    .dataframe tbody tr th:only-of-type {\n",
       "        vertical-align: middle;\n",
       "    }\n",
       "\n",
       "    .dataframe tbody tr th {\n",
       "        vertical-align: top;\n",
       "    }\n",
       "\n",
       "    .dataframe thead th {\n",
       "        text-align: right;\n",
       "    }\n",
       "</style>\n",
       "<table border=\"1\" class=\"dataframe\">\n",
       "  <thead>\n",
       "    <tr style=\"text-align: right;\">\n",
       "      <th></th>\n",
       "      <th>Total Count</th>\n",
       "    </tr>\n",
       "  </thead>\n",
       "  <tbody>\n",
       "    <tr>\n",
       "      <th>Casual Member</th>\n",
       "      <td>113479</td>\n",
       "    </tr>\n",
       "    <tr>\n",
       "      <th>Annual Member</th>\n",
       "      <td>17091</td>\n",
       "    </tr>\n",
       "  </tbody>\n",
       "</table>\n",
       "</div>"
      ],
      "text/plain": [
       "               Total Count\n",
       "Casual Member       113479\n",
       "Annual Member        17091"
      ]
     },
     "execution_count": 92,
     "metadata": {},
     "output_type": "execute_result"
    }
   ],
   "source": [
    "#User Type count Q3\n",
    "q3_user_type = q3[[\"Subscription Id\", \"User Type\"]].drop_duplicates()\n",
    "q3_user_type_df = pd.DataFrame({\"Total Count\" : q3_user_type[\"User Type\"].value_counts()})\n",
    "q3_user_type_df"
   ]
  },
  {
   "cell_type": "code",
   "execution_count": 93,
   "metadata": {},
   "outputs": [
    {
     "data": {
      "text/html": [
       "<div>\n",
       "<style scoped>\n",
       "    .dataframe tbody tr th:only-of-type {\n",
       "        vertical-align: middle;\n",
       "    }\n",
       "\n",
       "    .dataframe tbody tr th {\n",
       "        vertical-align: top;\n",
       "    }\n",
       "\n",
       "    .dataframe thead th {\n",
       "        text-align: right;\n",
       "    }\n",
       "</style>\n",
       "<table border=\"1\" class=\"dataframe\">\n",
       "  <thead>\n",
       "    <tr style=\"text-align: right;\">\n",
       "      <th></th>\n",
       "      <th>Total Count</th>\n",
       "    </tr>\n",
       "  </thead>\n",
       "  <tbody>\n",
       "    <tr>\n",
       "      <th>Casual Member</th>\n",
       "      <td>20075</td>\n",
       "    </tr>\n",
       "    <tr>\n",
       "      <th>Annual Member</th>\n",
       "      <td>12583</td>\n",
       "    </tr>\n",
       "  </tbody>\n",
       "</table>\n",
       "</div>"
      ],
      "text/plain": [
       "               Total Count\n",
       "Casual Member        20075\n",
       "Annual Member        12583"
      ]
     },
     "execution_count": 93,
     "metadata": {},
     "output_type": "execute_result"
    }
   ],
   "source": [
    "#User Type count Q4\n",
    "q4_user_type = q4[[\"Subscription Id\", \"User Type\"]].drop_duplicates()\n",
    "q4_user_type_df = pd.DataFrame({\"Total Count\" : q4_user_type[\"User Type\"].value_counts()})\n",
    "q4_user_type_df"
   ]
  },
  {
   "cell_type": "code",
   "execution_count": 94,
   "metadata": {},
   "outputs": [
    {
     "data": {
      "text/plain": [
       "array([199751, 294730, 197252, ..., 315497, 315498, 209680])"
      ]
     },
     "execution_count": 94,
     "metadata": {},
     "output_type": "execute_result"
    }
   ],
   "source": [
    "q1_users\n",
    "    "
   ]
  },
  {
   "cell_type": "code",
   "execution_count": 95,
   "metadata": {},
   "outputs": [
    {
     "data": {
      "text/plain": [
       "13.446730631235797"
      ]
     },
     "execution_count": 95,
     "metadata": {},
     "output_type": "execute_result"
    }
   ],
   "source": [
    "#average trip duration q1\n",
    "q1_avg_trip_duration = (q1[\"Trip  Duration\"].mean()) / 60\n",
    "q1_avg_trip_duration"
   ]
  },
  {
   "cell_type": "code",
   "execution_count": 96,
   "metadata": {},
   "outputs": [
    {
     "data": {
      "text/plain": [
       "17.707599351424896"
      ]
     },
     "execution_count": 96,
     "metadata": {},
     "output_type": "execute_result"
    }
   ],
   "source": [
    "#average trip duration q2\n",
    "q2_avg_trip_duration = (q2[\"Trip  Duration\"].mean()) / 60\n",
    "q2_avg_trip_duration"
   ]
  },
  {
   "cell_type": "code",
   "execution_count": 97,
   "metadata": {},
   "outputs": [
    {
     "data": {
      "text/plain": [
       "18.54283776837855"
      ]
     },
     "execution_count": 97,
     "metadata": {},
     "output_type": "execute_result"
    }
   ],
   "source": [
    "#average trip duration q3\n",
    "q3_avg_trip_duration = (q3[\"Trip  Duration\"].mean()) / 60\n",
    "q3_avg_trip_duration"
   ]
  },
  {
   "cell_type": "code",
   "execution_count": 98,
   "metadata": {},
   "outputs": [
    {
     "data": {
      "text/plain": [
       "15.949324709944438"
      ]
     },
     "execution_count": 98,
     "metadata": {},
     "output_type": "execute_result"
    }
   ],
   "source": [
    "#average trip duration q4\n",
    "q4_avg_trip_duration = (q4[\"Trip  Duration\"].mean()) / 60\n",
    "q4_avg_trip_duration"
   ]
  },
  {
   "cell_type": "code",
   "execution_count": 99,
   "metadata": {},
   "outputs": [
    {
     "data": {
      "text/html": [
       "<div>\n",
       "<style scoped>\n",
       "    .dataframe tbody tr th:only-of-type {\n",
       "        vertical-align: middle;\n",
       "    }\n",
       "\n",
       "    .dataframe tbody tr th {\n",
       "        vertical-align: top;\n",
       "    }\n",
       "\n",
       "    .dataframe thead th {\n",
       "        text-align: right;\n",
       "    }\n",
       "</style>\n",
       "<table border=\"1\" class=\"dataframe\">\n",
       "  <thead>\n",
       "    <tr style=\"text-align: right;\">\n",
       "      <th></th>\n",
       "      <th>Q1</th>\n",
       "      <th>Q2</th>\n",
       "      <th>Q3</th>\n",
       "      <th>Q4</th>\n",
       "    </tr>\n",
       "  </thead>\n",
       "  <tbody>\n",
       "    <tr>\n",
       "      <th>0</th>\n",
       "      <td>13.446731</td>\n",
       "      <td>17.707599</td>\n",
       "      <td>18.542838</td>\n",
       "      <td>15.949325</td>\n",
       "    </tr>\n",
       "  </tbody>\n",
       "</table>\n",
       "</div>"
      ],
      "text/plain": [
       "          Q1         Q2         Q3         Q4\n",
       "0  13.446731  17.707599  18.542838  15.949325"
      ]
     },
     "execution_count": 99,
     "metadata": {},
     "output_type": "execute_result"
    }
   ],
   "source": [
    "avg_trip_duration = pd.DataFrame({\"Q1\": [q1_avg_trip_duration],\n",
    "                                 \"Q2\": q2_avg_trip_duration,\n",
    "                                 \"Q3\": q3_avg_trip_duration,\n",
    "                                 \"Q4\": q4_avg_trip_duration})\n",
    "avg_trip_duration"
   ]
  },
  {
   "cell_type": "code",
   "execution_count": 100,
   "metadata": {},
   "outputs": [],
   "source": [
    "#create 8 bins for number of trips in 24hrs\n",
    "# create bins for 3hr time frame\n",
    "bins = [0,2,5,8,11,14,17,20,23]\n",
    "\n",
    "# create labels for the bins\n",
    "midnight = \"00:00 - 02:59\"\n",
    "three_am = \"03:00 - 05:59\"\n",
    "six_am = \"06:00 - 08:59\"\n",
    "nine_am = \"09:00 - 11:59\"\n",
    "noon = \"12:00 - 14:59\"\n",
    "three_pm = \"15:00 - 17:59\"\n",
    "six_pm = \"18:00 - 20:59\"\n",
    "nine_pm = \"21:00 - 23:59\"\n",
    "\n",
    "time_bins =[midnight, three_am, six_am, nine_am, noon, three_pm, six_pm, nine_pm]\n"
   ]
  },
  {
   "cell_type": "code",
   "execution_count": 101,
   "metadata": {},
   "outputs": [
    {
     "data": {
      "text/html": [
       "<div>\n",
       "<style scoped>\n",
       "    .dataframe tbody tr th:only-of-type {\n",
       "        vertical-align: middle;\n",
       "    }\n",
       "\n",
       "    .dataframe tbody tr th {\n",
       "        vertical-align: top;\n",
       "    }\n",
       "\n",
       "    .dataframe thead th {\n",
       "        text-align: right;\n",
       "    }\n",
       "</style>\n",
       "<table border=\"1\" class=\"dataframe\">\n",
       "  <thead>\n",
       "    <tr style=\"text-align: right;\">\n",
       "      <th></th>\n",
       "      <th>Start Time</th>\n",
       "      <th>Hour</th>\n",
       "    </tr>\n",
       "  </thead>\n",
       "  <tbody>\n",
       "    <tr>\n",
       "      <th>0</th>\n",
       "      <td>01/01/2019 00:08</td>\n",
       "      <td>0</td>\n",
       "    </tr>\n",
       "    <tr>\n",
       "      <th>1</th>\n",
       "      <td>01/01/2019 00:10</td>\n",
       "      <td>0</td>\n",
       "    </tr>\n",
       "    <tr>\n",
       "      <th>2</th>\n",
       "      <td>01/01/2019 00:15</td>\n",
       "      <td>0</td>\n",
       "    </tr>\n",
       "    <tr>\n",
       "      <th>3</th>\n",
       "      <td>01/01/2019 00:16</td>\n",
       "      <td>0</td>\n",
       "    </tr>\n",
       "    <tr>\n",
       "      <th>4</th>\n",
       "      <td>01/01/2019 00:19</td>\n",
       "      <td>0</td>\n",
       "    </tr>\n",
       "    <tr>\n",
       "      <th>...</th>\n",
       "      <td>...</td>\n",
       "      <td>...</td>\n",
       "    </tr>\n",
       "    <tr>\n",
       "      <th>189058</th>\n",
       "      <td>03/31/2019 23:45</td>\n",
       "      <td>23</td>\n",
       "    </tr>\n",
       "    <tr>\n",
       "      <th>189059</th>\n",
       "      <td>03/31/2019 23:46</td>\n",
       "      <td>23</td>\n",
       "    </tr>\n",
       "    <tr>\n",
       "      <th>189060</th>\n",
       "      <td>03/31/2019 23:49</td>\n",
       "      <td>23</td>\n",
       "    </tr>\n",
       "    <tr>\n",
       "      <th>189061</th>\n",
       "      <td>03/31/2019 23:55</td>\n",
       "      <td>23</td>\n",
       "    </tr>\n",
       "    <tr>\n",
       "      <th>189062</th>\n",
       "      <td>03/31/2019 23:55</td>\n",
       "      <td>23</td>\n",
       "    </tr>\n",
       "  </tbody>\n",
       "</table>\n",
       "<p>189063 rows × 2 columns</p>\n",
       "</div>"
      ],
      "text/plain": [
       "              Start Time  Hour\n",
       "0       01/01/2019 00:08     0\n",
       "1       01/01/2019 00:10     0\n",
       "2       01/01/2019 00:15     0\n",
       "3       01/01/2019 00:16     0\n",
       "4       01/01/2019 00:19     0\n",
       "...                  ...   ...\n",
       "189058  03/31/2019 23:45    23\n",
       "189059  03/31/2019 23:46    23\n",
       "189060  03/31/2019 23:49    23\n",
       "189061  03/31/2019 23:55    23\n",
       "189062  03/31/2019 23:55    23\n",
       "\n",
       "[189063 rows x 2 columns]"
      ]
     },
     "execution_count": 101,
     "metadata": {},
     "output_type": "execute_result"
    }
   ],
   "source": [
    "#Q1\n",
    "\n",
    "# convert column data into datetime, then assign to a variable\n",
    "q1_start_time_df = q1[[\"Start Time\"]]\n",
    "q1_start_time = pd.to_datetime(q1[\"Start Time\"])\n",
    "\n",
    "# get the hour portion and create a data frame\n",
    "q1_time_started = q1_start_time.dt.hour\n",
    "q1_time_started_df = pd.DataFrame(q1_time_started)\n",
    "\n",
    "# merge hour data to start_time_df\n",
    "q1_rides_df = q1_start_time_df.merge(q1_time_started_df, left_index=True, right_index=True)\n",
    "\n",
    "q1_rides_df = q1_rides_df.rename(columns={\"Start Time_x\" : \"Start Time\",\n",
    "                                             \"Start Time_y\" : \"Hour\"})\n",
    "\n",
    "#display ride_times_df\n",
    "q1_rides_df\n"
   ]
  },
  {
   "cell_type": "code",
   "execution_count": 102,
   "metadata": {},
   "outputs": [
    {
     "data": {
      "text/plain": [
       "189063"
      ]
     },
     "execution_count": 102,
     "metadata": {},
     "output_type": "execute_result"
    }
   ],
   "source": [
    "#get total number of rides for Q1\n",
    "q1_total_rides = len(q1_rides_df)\n",
    "q1_total_rides"
   ]
  },
  {
   "cell_type": "code",
   "execution_count": 103,
   "metadata": {},
   "outputs": [
    {
     "data": {
      "text/html": [
       "<div>\n",
       "<style scoped>\n",
       "    .dataframe tbody tr th:only-of-type {\n",
       "        vertical-align: middle;\n",
       "    }\n",
       "\n",
       "    .dataframe tbody tr th {\n",
       "        vertical-align: top;\n",
       "    }\n",
       "\n",
       "    .dataframe thead th {\n",
       "        text-align: right;\n",
       "    }\n",
       "</style>\n",
       "<table border=\"1\" class=\"dataframe\">\n",
       "  <thead>\n",
       "    <tr style=\"text-align: right;\">\n",
       "      <th></th>\n",
       "      <th>Total Rides</th>\n",
       "      <th>Percentage of Rides</th>\n",
       "    </tr>\n",
       "  </thead>\n",
       "  <tbody>\n",
       "    <tr>\n",
       "      <th>00:00 - 02:59</th>\n",
       "      <td>2902</td>\n",
       "      <td>1.53%</td>\n",
       "    </tr>\n",
       "    <tr>\n",
       "      <th>03:00 - 05:59</th>\n",
       "      <td>1457</td>\n",
       "      <td>0.77%</td>\n",
       "    </tr>\n",
       "    <tr>\n",
       "      <th>06:00 - 08:59</th>\n",
       "      <td>30837</td>\n",
       "      <td>16.31%</td>\n",
       "    </tr>\n",
       "    <tr>\n",
       "      <th>09:00 - 11:59</th>\n",
       "      <td>31221</td>\n",
       "      <td>16.51%</td>\n",
       "    </tr>\n",
       "    <tr>\n",
       "      <th>12:00 - 14:59</th>\n",
       "      <td>27623</td>\n",
       "      <td>14.61%</td>\n",
       "    </tr>\n",
       "    <tr>\n",
       "      <th>15:00 - 17:59</th>\n",
       "      <td>50861</td>\n",
       "      <td>26.90%</td>\n",
       "    </tr>\n",
       "    <tr>\n",
       "      <th>18:00 - 20:59</th>\n",
       "      <td>33058</td>\n",
       "      <td>17.49%</td>\n",
       "    </tr>\n",
       "    <tr>\n",
       "      <th>21:00 - 23:59</th>\n",
       "      <td>11104</td>\n",
       "      <td>5.87%</td>\n",
       "    </tr>\n",
       "  </tbody>\n",
       "</table>\n",
       "</div>"
      ],
      "text/plain": [
       "               Total Rides Percentage of Rides\n",
       "00:00 - 02:59         2902               1.53%\n",
       "03:00 - 05:59         1457               0.77%\n",
       "06:00 - 08:59        30837              16.31%\n",
       "09:00 - 11:59        31221              16.51%\n",
       "12:00 - 14:59        27623              14.61%\n",
       "15:00 - 17:59        50861              26.90%\n",
       "18:00 - 20:59        33058              17.49%\n",
       "21:00 - 23:59        11104               5.87%"
      ]
     },
     "execution_count": 103,
     "metadata": {},
     "output_type": "execute_result"
    }
   ],
   "source": [
    "#slice the data and place it into bins\n",
    "q1_rides_df[\"Time Group\"] = pd.cut(q1_rides_df[\"Hour\"], bins, labels=time_bins, include_lowest=True)\n",
    "\n",
    "q1_rides = q1_rides_df[\"Time Group\"].value_counts()\n",
    "q1_rides = q1_rides.sort_index()\n",
    "\n",
    "#get the percentage of riders per time group\n",
    "q1_pcts = (q1_rides / q1_total_rides * 100).map(\"{:.2f}%\".format)\n",
    "\n",
    "# create summary data frame to hold results\n",
    "q1_hour_bin_df = pd.DataFrame({\"Total Rides\" : q1_rides, \"Percentage of Rides\" : q1_pcts})\n",
    "\n",
    "# display rides summary table\n",
    "q1_hour_bin_df"
   ]
  },
  {
   "cell_type": "code",
   "execution_count": 104,
   "metadata": {},
   "outputs": [
    {
     "data": {
      "text/html": [
       "<div>\n",
       "<style scoped>\n",
       "    .dataframe tbody tr th:only-of-type {\n",
       "        vertical-align: middle;\n",
       "    }\n",
       "\n",
       "    .dataframe tbody tr th {\n",
       "        vertical-align: top;\n",
       "    }\n",
       "\n",
       "    .dataframe thead th {\n",
       "        text-align: right;\n",
       "    }\n",
       "</style>\n",
       "<table border=\"1\" class=\"dataframe\">\n",
       "  <thead>\n",
       "    <tr style=\"text-align: right;\">\n",
       "      <th></th>\n",
       "      <th>Start Time</th>\n",
       "      <th>Hour</th>\n",
       "    </tr>\n",
       "  </thead>\n",
       "  <tbody>\n",
       "    <tr>\n",
       "      <th>0</th>\n",
       "      <td>04/01/2019 00:04</td>\n",
       "      <td>0</td>\n",
       "    </tr>\n",
       "    <tr>\n",
       "      <th>1</th>\n",
       "      <td>04/01/2019 00:07</td>\n",
       "      <td>0</td>\n",
       "    </tr>\n",
       "    <tr>\n",
       "      <th>2</th>\n",
       "      <td>04/01/2019 00:08</td>\n",
       "      <td>0</td>\n",
       "    </tr>\n",
       "    <tr>\n",
       "      <th>3</th>\n",
       "      <td>04/01/2019 00:08</td>\n",
       "      <td>0</td>\n",
       "    </tr>\n",
       "    <tr>\n",
       "      <th>4</th>\n",
       "      <td>04/01/2019 00:09</td>\n",
       "      <td>0</td>\n",
       "    </tr>\n",
       "    <tr>\n",
       "      <th>...</th>\n",
       "      <td>...</td>\n",
       "      <td>...</td>\n",
       "    </tr>\n",
       "    <tr>\n",
       "      <th>651680</th>\n",
       "      <td>06/30/2019 23:59</td>\n",
       "      <td>23</td>\n",
       "    </tr>\n",
       "    <tr>\n",
       "      <th>651681</th>\n",
       "      <td>06/30/2019 23:59</td>\n",
       "      <td>23</td>\n",
       "    </tr>\n",
       "    <tr>\n",
       "      <th>651682</th>\n",
       "      <td>06/30/2019 23:59</td>\n",
       "      <td>23</td>\n",
       "    </tr>\n",
       "    <tr>\n",
       "      <th>651683</th>\n",
       "      <td>06/30/2019 23:59</td>\n",
       "      <td>23</td>\n",
       "    </tr>\n",
       "    <tr>\n",
       "      <th>651684</th>\n",
       "      <td>06/30/2019 23:59</td>\n",
       "      <td>23</td>\n",
       "    </tr>\n",
       "  </tbody>\n",
       "</table>\n",
       "<p>651685 rows × 2 columns</p>\n",
       "</div>"
      ],
      "text/plain": [
       "              Start Time  Hour\n",
       "0       04/01/2019 00:04     0\n",
       "1       04/01/2019 00:07     0\n",
       "2       04/01/2019 00:08     0\n",
       "3       04/01/2019 00:08     0\n",
       "4       04/01/2019 00:09     0\n",
       "...                  ...   ...\n",
       "651680  06/30/2019 23:59    23\n",
       "651681  06/30/2019 23:59    23\n",
       "651682  06/30/2019 23:59    23\n",
       "651683  06/30/2019 23:59    23\n",
       "651684  06/30/2019 23:59    23\n",
       "\n",
       "[651685 rows x 2 columns]"
      ]
     },
     "execution_count": 104,
     "metadata": {},
     "output_type": "execute_result"
    }
   ],
   "source": [
    "# Q2\n",
    "# convert column data into datetime, then assign to a variable\n",
    "q2_start_time_df = q2[[\"Start Time\"]]\n",
    "q2_start_time = pd.to_datetime(q2[\"Start Time\"])\n",
    "\n",
    "# get the hour portion and create a data frame\n",
    "q2_time_started = q2_start_time.dt.hour\n",
    "q2_time_started_df = pd.DataFrame(q2_time_started)\n",
    "\n",
    "# merge hour data to start_time_df\n",
    "q2_rides_df = q2_start_time_df.merge(q2_time_started_df, left_index=True, right_index=True)\n",
    "\n",
    "q2_rides_df = q2_rides_df.rename(columns={\"Start Time_x\" : \"Start Time\",\n",
    "                                             \"Start Time_y\" : \"Hour\"})\n",
    "\n",
    "#display ride_times_df\n",
    "q2_rides_df\n"
   ]
  },
  {
   "cell_type": "code",
   "execution_count": 105,
   "metadata": {},
   "outputs": [
    {
     "data": {
      "text/plain": [
       "651685"
      ]
     },
     "execution_count": 105,
     "metadata": {},
     "output_type": "execute_result"
    }
   ],
   "source": [
    "#get total number of rides for Q2\n",
    "q2_total_rides = len(q2_rides_df)\n",
    "q2_total_rides"
   ]
  },
  {
   "cell_type": "code",
   "execution_count": 106,
   "metadata": {},
   "outputs": [
    {
     "data": {
      "text/html": [
       "<div>\n",
       "<style scoped>\n",
       "    .dataframe tbody tr th:only-of-type {\n",
       "        vertical-align: middle;\n",
       "    }\n",
       "\n",
       "    .dataframe tbody tr th {\n",
       "        vertical-align: top;\n",
       "    }\n",
       "\n",
       "    .dataframe thead th {\n",
       "        text-align: right;\n",
       "    }\n",
       "</style>\n",
       "<table border=\"1\" class=\"dataframe\">\n",
       "  <thead>\n",
       "    <tr style=\"text-align: right;\">\n",
       "      <th></th>\n",
       "      <th>Total Rides</th>\n",
       "      <th>Percentage of Rides</th>\n",
       "    </tr>\n",
       "  </thead>\n",
       "  <tbody>\n",
       "    <tr>\n",
       "      <th>00:00 - 02:59</th>\n",
       "      <td>14412</td>\n",
       "      <td>2.21%</td>\n",
       "    </tr>\n",
       "    <tr>\n",
       "      <th>03:00 - 05:59</th>\n",
       "      <td>4709</td>\n",
       "      <td>0.72%</td>\n",
       "    </tr>\n",
       "    <tr>\n",
       "      <th>06:00 - 08:59</th>\n",
       "      <td>80983</td>\n",
       "      <td>12.43%</td>\n",
       "    </tr>\n",
       "    <tr>\n",
       "      <th>09:00 - 11:59</th>\n",
       "      <td>89977</td>\n",
       "      <td>13.81%</td>\n",
       "    </tr>\n",
       "    <tr>\n",
       "      <th>12:00 - 14:59</th>\n",
       "      <td>108351</td>\n",
       "      <td>16.63%</td>\n",
       "    </tr>\n",
       "    <tr>\n",
       "      <th>15:00 - 17:59</th>\n",
       "      <td>173078</td>\n",
       "      <td>26.56%</td>\n",
       "    </tr>\n",
       "    <tr>\n",
       "      <th>18:00 - 20:59</th>\n",
       "      <td>131640</td>\n",
       "      <td>20.20%</td>\n",
       "    </tr>\n",
       "    <tr>\n",
       "      <th>21:00 - 23:59</th>\n",
       "      <td>48535</td>\n",
       "      <td>7.45%</td>\n",
       "    </tr>\n",
       "  </tbody>\n",
       "</table>\n",
       "</div>"
      ],
      "text/plain": [
       "               Total Rides Percentage of Rides\n",
       "00:00 - 02:59        14412               2.21%\n",
       "03:00 - 05:59         4709               0.72%\n",
       "06:00 - 08:59        80983              12.43%\n",
       "09:00 - 11:59        89977              13.81%\n",
       "12:00 - 14:59       108351              16.63%\n",
       "15:00 - 17:59       173078              26.56%\n",
       "18:00 - 20:59       131640              20.20%\n",
       "21:00 - 23:59        48535               7.45%"
      ]
     },
     "execution_count": 106,
     "metadata": {},
     "output_type": "execute_result"
    }
   ],
   "source": [
    "#slice the data and place it into bins\n",
    "q2_rides_df[\"Time Group\"] = pd.cut(q2_rides_df[\"Hour\"], bins, labels=time_bins, include_lowest=True)\n",
    "\n",
    "q2_rides = q2_rides_df[\"Time Group\"].value_counts()\n",
    "q2_rides = q2_rides.sort_index()\n",
    "\n",
    "#get the percentage of riders per time group\n",
    "q2_pcts = (q2_rides / q2_total_rides * 100).map(\"{:.2f}%\".format)\n",
    "\n",
    "# create summary data frame to hold results\n",
    "q2_hour_bin_df = pd.DataFrame({\"Total Rides\" : q2_rides, \"Percentage of Rides\" : q2_pcts})\n",
    "\n",
    "# display rides summary table\n",
    "q2_hour_bin_df"
   ]
  },
  {
   "cell_type": "code",
   "execution_count": 107,
   "metadata": {},
   "outputs": [
    {
     "data": {
      "text/html": [
       "<div>\n",
       "<style scoped>\n",
       "    .dataframe tbody tr th:only-of-type {\n",
       "        vertical-align: middle;\n",
       "    }\n",
       "\n",
       "    .dataframe tbody tr th {\n",
       "        vertical-align: top;\n",
       "    }\n",
       "\n",
       "    .dataframe thead th {\n",
       "        text-align: right;\n",
       "    }\n",
       "</style>\n",
       "<table border=\"1\" class=\"dataframe\">\n",
       "  <thead>\n",
       "    <tr style=\"text-align: right;\">\n",
       "      <th></th>\n",
       "      <th>Start Time</th>\n",
       "      <th>Hour</th>\n",
       "    </tr>\n",
       "  </thead>\n",
       "  <tbody>\n",
       "    <tr>\n",
       "      <th>0</th>\n",
       "      <td>07/01/2019 00:00</td>\n",
       "      <td>0</td>\n",
       "    </tr>\n",
       "    <tr>\n",
       "      <th>1</th>\n",
       "      <td>07/01/2019 00:00</td>\n",
       "      <td>0</td>\n",
       "    </tr>\n",
       "    <tr>\n",
       "      <th>2</th>\n",
       "      <td>07/01/2019 00:00</td>\n",
       "      <td>0</td>\n",
       "    </tr>\n",
       "    <tr>\n",
       "      <th>3</th>\n",
       "      <td>07/01/2019 00:00</td>\n",
       "      <td>0</td>\n",
       "    </tr>\n",
       "    <tr>\n",
       "      <th>4</th>\n",
       "      <td>07/01/2019 00:01</td>\n",
       "      <td>0</td>\n",
       "    </tr>\n",
       "    <tr>\n",
       "      <th>...</th>\n",
       "      <td>...</td>\n",
       "      <td>...</td>\n",
       "    </tr>\n",
       "    <tr>\n",
       "      <th>1130348</th>\n",
       "      <td>09/30/2019 23:58</td>\n",
       "      <td>23</td>\n",
       "    </tr>\n",
       "    <tr>\n",
       "      <th>1130349</th>\n",
       "      <td>09/30/2019 23:58</td>\n",
       "      <td>23</td>\n",
       "    </tr>\n",
       "    <tr>\n",
       "      <th>1130350</th>\n",
       "      <td>09/30/2019 23:59</td>\n",
       "      <td>23</td>\n",
       "    </tr>\n",
       "    <tr>\n",
       "      <th>1130351</th>\n",
       "      <td>09/30/2019 23:59</td>\n",
       "      <td>23</td>\n",
       "    </tr>\n",
       "    <tr>\n",
       "      <th>1130352</th>\n",
       "      <td>09/30/2019 23:59</td>\n",
       "      <td>23</td>\n",
       "    </tr>\n",
       "  </tbody>\n",
       "</table>\n",
       "<p>1130353 rows × 2 columns</p>\n",
       "</div>"
      ],
      "text/plain": [
       "               Start Time  Hour\n",
       "0        07/01/2019 00:00     0\n",
       "1        07/01/2019 00:00     0\n",
       "2        07/01/2019 00:00     0\n",
       "3        07/01/2019 00:00     0\n",
       "4        07/01/2019 00:01     0\n",
       "...                   ...   ...\n",
       "1130348  09/30/2019 23:58    23\n",
       "1130349  09/30/2019 23:58    23\n",
       "1130350  09/30/2019 23:59    23\n",
       "1130351  09/30/2019 23:59    23\n",
       "1130352  09/30/2019 23:59    23\n",
       "\n",
       "[1130353 rows x 2 columns]"
      ]
     },
     "execution_count": 107,
     "metadata": {},
     "output_type": "execute_result"
    }
   ],
   "source": [
    "# Q3\n",
    "# convert column data into datetime, then assign to a variable\n",
    "q3_start_time_df = q3[[\"Start Time\"]]\n",
    "q3_start_time = pd.to_datetime(q3[\"Start Time\"])\n",
    "\n",
    "# get the hour portion and create a data frame\n",
    "q3_time_started = q3_start_time.dt.hour\n",
    "q3_time_started_df = pd.DataFrame(q3_time_started)\n",
    "\n",
    "# merge hour data to start_time_df\n",
    "q3_rides_df = q3_start_time_df.merge(q3_time_started_df, left_index=True, right_index=True)\n",
    "\n",
    "q3_rides_df = q3_rides_df.rename(columns={\"Start Time_x\" : \"Start Time\",\n",
    "                                             \"Start Time_y\" : \"Hour\"})\n",
    "\n",
    "#display ride_times_df\n",
    "q3_rides_df\n"
   ]
  },
  {
   "cell_type": "code",
   "execution_count": 108,
   "metadata": {},
   "outputs": [
    {
     "data": {
      "text/plain": [
       "1130353"
      ]
     },
     "execution_count": 108,
     "metadata": {},
     "output_type": "execute_result"
    }
   ],
   "source": [
    "#get total number of rides for Q3\n",
    "q3_total_rides = len(q3_rides_df)\n",
    "q3_total_rides"
   ]
  },
  {
   "cell_type": "code",
   "execution_count": 109,
   "metadata": {},
   "outputs": [
    {
     "data": {
      "text/html": [
       "<div>\n",
       "<style scoped>\n",
       "    .dataframe tbody tr th:only-of-type {\n",
       "        vertical-align: middle;\n",
       "    }\n",
       "\n",
       "    .dataframe tbody tr th {\n",
       "        vertical-align: top;\n",
       "    }\n",
       "\n",
       "    .dataframe thead th {\n",
       "        text-align: right;\n",
       "    }\n",
       "</style>\n",
       "<table border=\"1\" class=\"dataframe\">\n",
       "  <thead>\n",
       "    <tr style=\"text-align: right;\">\n",
       "      <th></th>\n",
       "      <th>Total Rides</th>\n",
       "      <th>Percentage of Rides</th>\n",
       "    </tr>\n",
       "  </thead>\n",
       "  <tbody>\n",
       "    <tr>\n",
       "      <th>00:00 - 02:59</th>\n",
       "      <td>24238</td>\n",
       "      <td>2.14%</td>\n",
       "    </tr>\n",
       "    <tr>\n",
       "      <th>03:00 - 05:59</th>\n",
       "      <td>8553</td>\n",
       "      <td>0.76%</td>\n",
       "    </tr>\n",
       "    <tr>\n",
       "      <th>06:00 - 08:59</th>\n",
       "      <td>134051</td>\n",
       "      <td>11.86%</td>\n",
       "    </tr>\n",
       "    <tr>\n",
       "      <th>09:00 - 11:59</th>\n",
       "      <td>150285</td>\n",
       "      <td>13.30%</td>\n",
       "    </tr>\n",
       "    <tr>\n",
       "      <th>12:00 - 14:59</th>\n",
       "      <td>181697</td>\n",
       "      <td>16.07%</td>\n",
       "    </tr>\n",
       "    <tr>\n",
       "      <th>15:00 - 17:59</th>\n",
       "      <td>292525</td>\n",
       "      <td>25.88%</td>\n",
       "    </tr>\n",
       "    <tr>\n",
       "      <th>18:00 - 20:59</th>\n",
       "      <td>243597</td>\n",
       "      <td>21.55%</td>\n",
       "    </tr>\n",
       "    <tr>\n",
       "      <th>21:00 - 23:59</th>\n",
       "      <td>95407</td>\n",
       "      <td>8.44%</td>\n",
       "    </tr>\n",
       "  </tbody>\n",
       "</table>\n",
       "</div>"
      ],
      "text/plain": [
       "               Total Rides Percentage of Rides\n",
       "00:00 - 02:59        24238               2.14%\n",
       "03:00 - 05:59         8553               0.76%\n",
       "06:00 - 08:59       134051              11.86%\n",
       "09:00 - 11:59       150285              13.30%\n",
       "12:00 - 14:59       181697              16.07%\n",
       "15:00 - 17:59       292525              25.88%\n",
       "18:00 - 20:59       243597              21.55%\n",
       "21:00 - 23:59        95407               8.44%"
      ]
     },
     "execution_count": 109,
     "metadata": {},
     "output_type": "execute_result"
    }
   ],
   "source": [
    "#slice the data and place it into bins\n",
    "q3_rides_df[\"Time Group\"] = pd.cut(q3_rides_df[\"Hour\"], bins, labels=time_bins, include_lowest=True)\n",
    "\n",
    "q3_rides = q3_rides_df[\"Time Group\"].value_counts()\n",
    "q3_rides = q3_rides.sort_index()\n",
    "\n",
    "#get the percentage of riders per time group\n",
    "q3_pcts = (q3_rides / q3_total_rides * 100).map(\"{:.2f}%\".format)\n",
    "\n",
    "# create summary data frame to hold results\n",
    "q3_hour_bin_df = pd.DataFrame({\"Total Rides\" : q3_rides, \"Percentage of Rides\" : q3_pcts})\n",
    "\n",
    "# display rides summary table\n",
    "q3_hour_bin_df"
   ]
  },
  {
   "cell_type": "code",
   "execution_count": 110,
   "metadata": {},
   "outputs": [
    {
     "data": {
      "text/html": [
       "<div>\n",
       "<style scoped>\n",
       "    .dataframe tbody tr th:only-of-type {\n",
       "        vertical-align: middle;\n",
       "    }\n",
       "\n",
       "    .dataframe tbody tr th {\n",
       "        vertical-align: top;\n",
       "    }\n",
       "\n",
       "    .dataframe thead th {\n",
       "        text-align: right;\n",
       "    }\n",
       "</style>\n",
       "<table border=\"1\" class=\"dataframe\">\n",
       "  <thead>\n",
       "    <tr style=\"text-align: right;\">\n",
       "      <th></th>\n",
       "      <th>Start Time</th>\n",
       "      <th>Hour</th>\n",
       "    </tr>\n",
       "  </thead>\n",
       "  <tbody>\n",
       "    <tr>\n",
       "      <th>0</th>\n",
       "      <td>10/01/2019 00:00</td>\n",
       "      <td>0</td>\n",
       "    </tr>\n",
       "    <tr>\n",
       "      <th>1</th>\n",
       "      <td>10/01/2019 00:00</td>\n",
       "      <td>0</td>\n",
       "    </tr>\n",
       "    <tr>\n",
       "      <th>2</th>\n",
       "      <td>10/01/2019 00:00</td>\n",
       "      <td>0</td>\n",
       "    </tr>\n",
       "    <tr>\n",
       "      <th>3</th>\n",
       "      <td>10/01/2019 00:02</td>\n",
       "      <td>0</td>\n",
       "    </tr>\n",
       "    <tr>\n",
       "      <th>4</th>\n",
       "      <td>10/01/2019 00:02</td>\n",
       "      <td>0</td>\n",
       "    </tr>\n",
       "    <tr>\n",
       "      <th>...</th>\n",
       "      <td>...</td>\n",
       "      <td>...</td>\n",
       "    </tr>\n",
       "    <tr>\n",
       "      <th>468411</th>\n",
       "      <td>12/31/2019 23:39</td>\n",
       "      <td>23</td>\n",
       "    </tr>\n",
       "    <tr>\n",
       "      <th>468412</th>\n",
       "      <td>12/31/2019 23:45</td>\n",
       "      <td>23</td>\n",
       "    </tr>\n",
       "    <tr>\n",
       "      <th>468413</th>\n",
       "      <td>12/31/2019 23:51</td>\n",
       "      <td>23</td>\n",
       "    </tr>\n",
       "    <tr>\n",
       "      <th>468414</th>\n",
       "      <td>12/31/2019 23:55</td>\n",
       "      <td>23</td>\n",
       "    </tr>\n",
       "    <tr>\n",
       "      <th>468415</th>\n",
       "      <td>12/31/2019 23:58</td>\n",
       "      <td>23</td>\n",
       "    </tr>\n",
       "  </tbody>\n",
       "</table>\n",
       "<p>468416 rows × 2 columns</p>\n",
       "</div>"
      ],
      "text/plain": [
       "              Start Time  Hour\n",
       "0       10/01/2019 00:00     0\n",
       "1       10/01/2019 00:00     0\n",
       "2       10/01/2019 00:00     0\n",
       "3       10/01/2019 00:02     0\n",
       "4       10/01/2019 00:02     0\n",
       "...                  ...   ...\n",
       "468411  12/31/2019 23:39    23\n",
       "468412  12/31/2019 23:45    23\n",
       "468413  12/31/2019 23:51    23\n",
       "468414  12/31/2019 23:55    23\n",
       "468415  12/31/2019 23:58    23\n",
       "\n",
       "[468416 rows x 2 columns]"
      ]
     },
     "execution_count": 110,
     "metadata": {},
     "output_type": "execute_result"
    }
   ],
   "source": [
    "# Q4\n",
    "# convert column data into datetime, then assign to a variable\n",
    "q4_start_time_df = q4[[\"Start Time\"]]\n",
    "q4_start_time = pd.to_datetime(q4[\"Start Time\"])\n",
    "\n",
    "# get the hour portion and create a data frame\n",
    "q4_time_started = q4_start_time.dt.hour\n",
    "q4_time_started_df = pd.DataFrame(q4_time_started)\n",
    "\n",
    "# merge hour data to start_time_df\n",
    "q4_rides_df = q4_start_time_df.merge(q4_time_started_df, left_index=True, right_index=True)\n",
    "\n",
    "q4_rides_df = q4_rides_df.rename(columns={\"Start Time_x\" : \"Start Time\",\n",
    "                                             \"Start Time_y\" : \"Hour\"})\n",
    "\n",
    "#display ride_times_df\n",
    "q4_rides_df\n"
   ]
  },
  {
   "cell_type": "code",
   "execution_count": 111,
   "metadata": {},
   "outputs": [
    {
     "data": {
      "text/plain": [
       "468416"
      ]
     },
     "execution_count": 111,
     "metadata": {},
     "output_type": "execute_result"
    }
   ],
   "source": [
    "#get total number of rides for Q4\n",
    "q4_total_rides = len(q4_rides_df)\n",
    "q4_total_rides"
   ]
  },
  {
   "cell_type": "code",
   "execution_count": 112,
   "metadata": {},
   "outputs": [
    {
     "data": {
      "text/html": [
       "<div>\n",
       "<style scoped>\n",
       "    .dataframe tbody tr th:only-of-type {\n",
       "        vertical-align: middle;\n",
       "    }\n",
       "\n",
       "    .dataframe tbody tr th {\n",
       "        vertical-align: top;\n",
       "    }\n",
       "\n",
       "    .dataframe thead th {\n",
       "        text-align: right;\n",
       "    }\n",
       "</style>\n",
       "<table border=\"1\" class=\"dataframe\">\n",
       "  <thead>\n",
       "    <tr style=\"text-align: right;\">\n",
       "      <th></th>\n",
       "      <th>Total Rides</th>\n",
       "      <th>Percentage of Rides</th>\n",
       "    </tr>\n",
       "  </thead>\n",
       "  <tbody>\n",
       "    <tr>\n",
       "      <th>00:00 - 02:59</th>\n",
       "      <td>9555</td>\n",
       "      <td>2.04%</td>\n",
       "    </tr>\n",
       "    <tr>\n",
       "      <th>03:00 - 05:59</th>\n",
       "      <td>4521</td>\n",
       "      <td>0.97%</td>\n",
       "    </tr>\n",
       "    <tr>\n",
       "      <th>06:00 - 08:59</th>\n",
       "      <td>74133</td>\n",
       "      <td>15.83%</td>\n",
       "    </tr>\n",
       "    <tr>\n",
       "      <th>09:00 - 11:59</th>\n",
       "      <td>73546</td>\n",
       "      <td>15.70%</td>\n",
       "    </tr>\n",
       "    <tr>\n",
       "      <th>12:00 - 14:59</th>\n",
       "      <td>72067</td>\n",
       "      <td>15.39%</td>\n",
       "    </tr>\n",
       "    <tr>\n",
       "      <th>15:00 - 17:59</th>\n",
       "      <td>121593</td>\n",
       "      <td>25.96%</td>\n",
       "    </tr>\n",
       "    <tr>\n",
       "      <th>18:00 - 20:59</th>\n",
       "      <td>81069</td>\n",
       "      <td>17.31%</td>\n",
       "    </tr>\n",
       "    <tr>\n",
       "      <th>21:00 - 23:59</th>\n",
       "      <td>31932</td>\n",
       "      <td>6.82%</td>\n",
       "    </tr>\n",
       "  </tbody>\n",
       "</table>\n",
       "</div>"
      ],
      "text/plain": [
       "               Total Rides Percentage of Rides\n",
       "00:00 - 02:59         9555               2.04%\n",
       "03:00 - 05:59         4521               0.97%\n",
       "06:00 - 08:59        74133              15.83%\n",
       "09:00 - 11:59        73546              15.70%\n",
       "12:00 - 14:59        72067              15.39%\n",
       "15:00 - 17:59       121593              25.96%\n",
       "18:00 - 20:59        81069              17.31%\n",
       "21:00 - 23:59        31932               6.82%"
      ]
     },
     "execution_count": 112,
     "metadata": {},
     "output_type": "execute_result"
    }
   ],
   "source": [
    "#slice the data and place it into bins\n",
    "q4_rides_df[\"Time Group\"] = pd.cut(q4_rides_df[\"Hour\"], bins, labels=time_bins, include_lowest=True)\n",
    "\n",
    "q4_rides = q4_rides_df[\"Time Group\"].value_counts()\n",
    "q4_rides = q4_rides.sort_index()\n",
    "\n",
    "#get the percentage of riders per time group\n",
    "q4_pcts = (q4_rides / q4_total_rides * 100).map(\"{:.2f}%\".format)\n",
    "\n",
    "# create summary data frame to hold results\n",
    "q4_hour_bin_df = pd.DataFrame({\"Total Rides\" : q4_rides, \"Percentage of Rides\" : q4_pcts})\n",
    "\n",
    "# display rides summary table\n",
    "q4_hour_bin_df"
   ]
  },
  {
   "cell_type": "code",
   "execution_count": 113,
   "metadata": {},
   "outputs": [
    {
     "name": "stdout",
     "output_type": "stream",
     "text": [
      "Unique Bikers for Q1: 3402 | Q2: 3933 | Q3: 4747 | Q4: 4666\n",
      "16748\n"
     ]
    }
   ],
   "source": [
    "#unique number of bikers \n",
    "q1_total_Bike = q1[\"Bike Id\"].nunique()\n",
    "\n",
    "q2_total_Bike = q2[\"Bike Id\"].nunique()\n",
    "\n",
    "q3_total_Bike = q3[\"Bike Id\"].nunique()\n",
    "\n",
    "q4_total_Bike = q4[\"Bike Id\"].nunique()\n",
    "\n",
    "print(f\"Unique Bikers for Q1: {q1_total_Bike} | Q2: {q2_total_Bike} | \\\n",
    "Q3: {q3_total_Bike} | Q4: {q4_total_Bike}\")\n",
    "\n",
    "print(q1_total_Bike + q2_total_Bike + q3_total_Bike + q4_total_Bike)"
   ]
  },
  {
   "cell_type": "code",
   "execution_count": 114,
   "metadata": {},
   "outputs": [
    {
     "data": {
      "text/html": [
       "<div>\n",
       "<style scoped>\n",
       "    .dataframe tbody tr th:only-of-type {\n",
       "        vertical-align: middle;\n",
       "    }\n",
       "\n",
       "    .dataframe tbody tr th {\n",
       "        vertical-align: top;\n",
       "    }\n",
       "\n",
       "    .dataframe thead th {\n",
       "        text-align: right;\n",
       "    }\n",
       "</style>\n",
       "<table border=\"1\" class=\"dataframe\">\n",
       "  <thead>\n",
       "    <tr style=\"text-align: right;\">\n",
       "      <th></th>\n",
       "      <th>Trip Id</th>\n",
       "      <th>Subscription Id</th>\n",
       "      <th>Trip  Duration</th>\n",
       "      <th>Start Station Id</th>\n",
       "      <th>Start Time</th>\n",
       "      <th>Start Station Name</th>\n",
       "      <th>End Station Id</th>\n",
       "      <th>End Time</th>\n",
       "      <th>End Station Name</th>\n",
       "      <th>Bike Id</th>\n",
       "      <th>User Type</th>\n",
       "    </tr>\n",
       "  </thead>\n",
       "  <tbody>\n",
       "    <tr>\n",
       "      <th>0</th>\n",
       "      <td>4581278</td>\n",
       "      <td>199751</td>\n",
       "      <td>1547</td>\n",
       "      <td>7021</td>\n",
       "      <td>01/01/2019 00:08</td>\n",
       "      <td>Bay St / Albert St</td>\n",
       "      <td>7233.0</td>\n",
       "      <td>01/01/2019 00:33</td>\n",
       "      <td>King / Cowan Ave - SMART</td>\n",
       "      <td>1296</td>\n",
       "      <td>Annual Member</td>\n",
       "    </tr>\n",
       "    <tr>\n",
       "      <th>1</th>\n",
       "      <td>4581279</td>\n",
       "      <td>294730</td>\n",
       "      <td>1112</td>\n",
       "      <td>7160</td>\n",
       "      <td>01/01/2019 00:10</td>\n",
       "      <td>King St W / Tecumseth St</td>\n",
       "      <td>7051.0</td>\n",
       "      <td>01/01/2019 00:29</td>\n",
       "      <td>Wellesley St E / Yonge St (Green P)</td>\n",
       "      <td>2947</td>\n",
       "      <td>Annual Member</td>\n",
       "    </tr>\n",
       "    <tr>\n",
       "      <th>2</th>\n",
       "      <td>4581280</td>\n",
       "      <td>197252</td>\n",
       "      <td>589</td>\n",
       "      <td>7055</td>\n",
       "      <td>01/01/2019 00:15</td>\n",
       "      <td>Jarvis St / Carlton St</td>\n",
       "      <td>7013.0</td>\n",
       "      <td>01/01/2019 00:25</td>\n",
       "      <td>Scott St / The Esplanade</td>\n",
       "      <td>2293</td>\n",
       "      <td>Annual Member</td>\n",
       "    </tr>\n",
       "    <tr>\n",
       "      <th>3</th>\n",
       "      <td>4581281</td>\n",
       "      <td>171700</td>\n",
       "      <td>259</td>\n",
       "      <td>7012</td>\n",
       "      <td>01/01/2019 00:16</td>\n",
       "      <td>Elizabeth St / Edward St (Bus Terminal)</td>\n",
       "      <td>7235.0</td>\n",
       "      <td>01/01/2019 00:20</td>\n",
       "      <td>Bay St / College St (West Side) - SMART</td>\n",
       "      <td>283</td>\n",
       "      <td>Annual Member</td>\n",
       "    </tr>\n",
       "    <tr>\n",
       "      <th>4</th>\n",
       "      <td>4581282</td>\n",
       "      <td>306314</td>\n",
       "      <td>281</td>\n",
       "      <td>7041</td>\n",
       "      <td>01/01/2019 00:19</td>\n",
       "      <td>Edward St / Yonge St</td>\n",
       "      <td>7257.0</td>\n",
       "      <td>01/01/2019 00:24</td>\n",
       "      <td>Dundas St W / St. Patrick St</td>\n",
       "      <td>1799</td>\n",
       "      <td>Annual Member</td>\n",
       "    </tr>\n",
       "  </tbody>\n",
       "</table>\n",
       "</div>"
      ],
      "text/plain": [
       "   Trip Id  Subscription Id  Trip  Duration  Start Station Id  \\\n",
       "0  4581278           199751            1547              7021   \n",
       "1  4581279           294730            1112              7160   \n",
       "2  4581280           197252             589              7055   \n",
       "3  4581281           171700             259              7012   \n",
       "4  4581282           306314             281              7041   \n",
       "\n",
       "         Start Time                       Start Station Name  End Station Id  \\\n",
       "0  01/01/2019 00:08                       Bay St / Albert St          7233.0   \n",
       "1  01/01/2019 00:10                 King St W / Tecumseth St          7051.0   \n",
       "2  01/01/2019 00:15                   Jarvis St / Carlton St          7013.0   \n",
       "3  01/01/2019 00:16  Elizabeth St / Edward St (Bus Terminal)          7235.0   \n",
       "4  01/01/2019 00:19                     Edward St / Yonge St          7257.0   \n",
       "\n",
       "           End Time                         End Station Name  Bike Id  \\\n",
       "0  01/01/2019 00:33                 King / Cowan Ave - SMART     1296   \n",
       "1  01/01/2019 00:29      Wellesley St E / Yonge St (Green P)     2947   \n",
       "2  01/01/2019 00:25                 Scott St / The Esplanade     2293   \n",
       "3  01/01/2019 00:20  Bay St / College St (West Side) - SMART      283   \n",
       "4  01/01/2019 00:24             Dundas St W / St. Patrick St     1799   \n",
       "\n",
       "       User Type  \n",
       "0  Annual Member  \n",
       "1  Annual Member  \n",
       "2  Annual Member  \n",
       "3  Annual Member  \n",
       "4  Annual Member  "
      ]
     },
     "execution_count": 114,
     "metadata": {},
     "output_type": "execute_result"
    }
   ],
   "source": [
    "toronto = [q1, q2, q3, q4]\n",
    "bike_share = pd.concat(toronto)\n",
    "bike_share.head()"
   ]
  },
  {
   "cell_type": "code",
   "execution_count": 115,
   "metadata": {},
   "outputs": [],
   "source": [
    "#Convert the objects into DateTime format:\n",
    "bike_share['Start Time'] = pd.to_datetime(bike_share['Start Time'])\n",
    "bike_share['End Time'] = pd.to_datetime(bike_share['End Time'])"
   ]
  },
  {
   "cell_type": "code",
   "execution_count": 116,
   "metadata": {},
   "outputs": [],
   "source": [
    "#extract the hour, month and day of the week from both columns:\n",
    "bike_share['hour_start'] = bike_share['Start Time'].apply(lambda time: time.hour)\n",
    "bike_share['month_start'] = bike_share['Start Time'].apply(lambda time: time.month)\n",
    "bike_share['weekday_start'] = bike_share['Start Time'].apply(lambda time: time.dayofweek)"
   ]
  },
  {
   "cell_type": "code",
   "execution_count": 117,
   "metadata": {},
   "outputs": [],
   "source": [
    "bike_share['hour_stop'] = bike_share['Start Time'].apply(lambda time: time.hour)\n",
    "bike_share['month_stop'] = bike_share['Start Time'].apply(lambda time: time.month)\n",
    "bike_share['weekday_stop'] = bike_share['Start Time'].apply(lambda time: time.dayofweek)"
   ]
  },
  {
   "cell_type": "code",
   "execution_count": 118,
   "metadata": {},
   "outputs": [],
   "source": [
    "mon = {1:'Jan',2:'Feb',3:'Mar',4:'Apr',5:'May',6:'Jun',7:'Jul',8:'Aug',9:'Sep',10:'Oct',11:'Nov',12:'Dec'}\n",
    "bike_share['month_start'] = bike_share['month_start'].map(mon)\n",
    "bike_share['month_stop'] = bike_share['month_stop'].map(mon)"
   ]
  },
  {
   "cell_type": "code",
   "execution_count": 119,
   "metadata": {},
   "outputs": [],
   "source": [
    "day = {0:'Mon',1:'Tue',2:'Wed',3:'Thu',4:'Fri',5:'Sat',6:'Sun'}\n",
    "bike_share['weekday_start'] = bike_share['weekday_start'].map(day)\n",
    "bike_share['weekday_stop'] = bike_share['weekday_stop'].map(day)"
   ]
  },
  {
   "cell_type": "code",
   "execution_count": 120,
   "metadata": {},
   "outputs": [
    {
     "data": {
      "text/plain": [
       "Trip Id               2439517\n",
       "Subscription Id       2439517\n",
       "Trip  Duration        2439517\n",
       "Start Station Id      2439517\n",
       "Start Time            2439517\n",
       "Start Station Name    2439517\n",
       "End Station Id        2439063\n",
       "End Time              2439517\n",
       "End Station Name      2439063\n",
       "Bike Id               2439517\n",
       "User Type             2439517\n",
       "hour_start            2439517\n",
       "month_start           2439517\n",
       "weekday_start         2439517\n",
       "hour_stop             2439517\n",
       "month_stop            2439517\n",
       "weekday_stop          2439517\n",
       "dtype: int64"
      ]
     },
     "execution_count": 120,
     "metadata": {},
     "output_type": "execute_result"
    }
   ],
   "source": [
    "bike_share.count()"
   ]
  },
  {
   "cell_type": "code",
   "execution_count": 121,
   "metadata": {},
   "outputs": [
    {
     "data": {
      "text/html": [
       "<div>\n",
       "<style scoped>\n",
       "    .dataframe tbody tr th:only-of-type {\n",
       "        vertical-align: middle;\n",
       "    }\n",
       "\n",
       "    .dataframe tbody tr th {\n",
       "        vertical-align: top;\n",
       "    }\n",
       "\n",
       "    .dataframe thead th {\n",
       "        text-align: right;\n",
       "    }\n",
       "</style>\n",
       "<table border=\"1\" class=\"dataframe\">\n",
       "  <thead>\n",
       "    <tr style=\"text-align: right;\">\n",
       "      <th></th>\n",
       "      <th>Trip Id</th>\n",
       "      <th>Subscription Id</th>\n",
       "      <th>Trip  Duration</th>\n",
       "      <th>Start Station Id</th>\n",
       "      <th>Start Time</th>\n",
       "      <th>Start Station Name</th>\n",
       "      <th>End Station Id</th>\n",
       "      <th>End Time</th>\n",
       "      <th>End Station Name</th>\n",
       "      <th>Bike Id</th>\n",
       "      <th>User Type</th>\n",
       "      <th>hour_start</th>\n",
       "      <th>month_start</th>\n",
       "      <th>weekday_start</th>\n",
       "      <th>hour_stop</th>\n",
       "      <th>month_stop</th>\n",
       "      <th>weekday_stop</th>\n",
       "    </tr>\n",
       "  </thead>\n",
       "  <tbody>\n",
       "    <tr>\n",
       "      <th>0</th>\n",
       "      <td>4581278</td>\n",
       "      <td>199751</td>\n",
       "      <td>1547</td>\n",
       "      <td>7021</td>\n",
       "      <td>2019-01-01 00:08:00</td>\n",
       "      <td>Bay St / Albert St</td>\n",
       "      <td>7233.0</td>\n",
       "      <td>2019-01-01 00:33:00</td>\n",
       "      <td>King / Cowan Ave - SMART</td>\n",
       "      <td>1296</td>\n",
       "      <td>Annual Member</td>\n",
       "      <td>0</td>\n",
       "      <td>Jan</td>\n",
       "      <td>Tue</td>\n",
       "      <td>0</td>\n",
       "      <td>Jan</td>\n",
       "      <td>Tue</td>\n",
       "    </tr>\n",
       "    <tr>\n",
       "      <th>1</th>\n",
       "      <td>4581279</td>\n",
       "      <td>294730</td>\n",
       "      <td>1112</td>\n",
       "      <td>7160</td>\n",
       "      <td>2019-01-01 00:10:00</td>\n",
       "      <td>King St W / Tecumseth St</td>\n",
       "      <td>7051.0</td>\n",
       "      <td>2019-01-01 00:29:00</td>\n",
       "      <td>Wellesley St E / Yonge St (Green P)</td>\n",
       "      <td>2947</td>\n",
       "      <td>Annual Member</td>\n",
       "      <td>0</td>\n",
       "      <td>Jan</td>\n",
       "      <td>Tue</td>\n",
       "      <td>0</td>\n",
       "      <td>Jan</td>\n",
       "      <td>Tue</td>\n",
       "    </tr>\n",
       "    <tr>\n",
       "      <th>2</th>\n",
       "      <td>4581280</td>\n",
       "      <td>197252</td>\n",
       "      <td>589</td>\n",
       "      <td>7055</td>\n",
       "      <td>2019-01-01 00:15:00</td>\n",
       "      <td>Jarvis St / Carlton St</td>\n",
       "      <td>7013.0</td>\n",
       "      <td>2019-01-01 00:25:00</td>\n",
       "      <td>Scott St / The Esplanade</td>\n",
       "      <td>2293</td>\n",
       "      <td>Annual Member</td>\n",
       "      <td>0</td>\n",
       "      <td>Jan</td>\n",
       "      <td>Tue</td>\n",
       "      <td>0</td>\n",
       "      <td>Jan</td>\n",
       "      <td>Tue</td>\n",
       "    </tr>\n",
       "    <tr>\n",
       "      <th>3</th>\n",
       "      <td>4581281</td>\n",
       "      <td>171700</td>\n",
       "      <td>259</td>\n",
       "      <td>7012</td>\n",
       "      <td>2019-01-01 00:16:00</td>\n",
       "      <td>Elizabeth St / Edward St (Bus Terminal)</td>\n",
       "      <td>7235.0</td>\n",
       "      <td>2019-01-01 00:20:00</td>\n",
       "      <td>Bay St / College St (West Side) - SMART</td>\n",
       "      <td>283</td>\n",
       "      <td>Annual Member</td>\n",
       "      <td>0</td>\n",
       "      <td>Jan</td>\n",
       "      <td>Tue</td>\n",
       "      <td>0</td>\n",
       "      <td>Jan</td>\n",
       "      <td>Tue</td>\n",
       "    </tr>\n",
       "    <tr>\n",
       "      <th>4</th>\n",
       "      <td>4581282</td>\n",
       "      <td>306314</td>\n",
       "      <td>281</td>\n",
       "      <td>7041</td>\n",
       "      <td>2019-01-01 00:19:00</td>\n",
       "      <td>Edward St / Yonge St</td>\n",
       "      <td>7257.0</td>\n",
       "      <td>2019-01-01 00:24:00</td>\n",
       "      <td>Dundas St W / St. Patrick St</td>\n",
       "      <td>1799</td>\n",
       "      <td>Annual Member</td>\n",
       "      <td>0</td>\n",
       "      <td>Jan</td>\n",
       "      <td>Tue</td>\n",
       "      <td>0</td>\n",
       "      <td>Jan</td>\n",
       "      <td>Tue</td>\n",
       "    </tr>\n",
       "  </tbody>\n",
       "</table>\n",
       "</div>"
      ],
      "text/plain": [
       "   Trip Id  Subscription Id  Trip  Duration  Start Station Id  \\\n",
       "0  4581278           199751            1547              7021   \n",
       "1  4581279           294730            1112              7160   \n",
       "2  4581280           197252             589              7055   \n",
       "3  4581281           171700             259              7012   \n",
       "4  4581282           306314             281              7041   \n",
       "\n",
       "           Start Time                       Start Station Name  \\\n",
       "0 2019-01-01 00:08:00                       Bay St / Albert St   \n",
       "1 2019-01-01 00:10:00                 King St W / Tecumseth St   \n",
       "2 2019-01-01 00:15:00                   Jarvis St / Carlton St   \n",
       "3 2019-01-01 00:16:00  Elizabeth St / Edward St (Bus Terminal)   \n",
       "4 2019-01-01 00:19:00                     Edward St / Yonge St   \n",
       "\n",
       "   End Station Id            End Time  \\\n",
       "0          7233.0 2019-01-01 00:33:00   \n",
       "1          7051.0 2019-01-01 00:29:00   \n",
       "2          7013.0 2019-01-01 00:25:00   \n",
       "3          7235.0 2019-01-01 00:20:00   \n",
       "4          7257.0 2019-01-01 00:24:00   \n",
       "\n",
       "                          End Station Name  Bike Id      User Type  \\\n",
       "0                 King / Cowan Ave - SMART     1296  Annual Member   \n",
       "1      Wellesley St E / Yonge St (Green P)     2947  Annual Member   \n",
       "2                 Scott St / The Esplanade     2293  Annual Member   \n",
       "3  Bay St / College St (West Side) - SMART      283  Annual Member   \n",
       "4             Dundas St W / St. Patrick St     1799  Annual Member   \n",
       "\n",
       "   hour_start month_start weekday_start  hour_stop month_stop weekday_stop  \n",
       "0           0         Jan           Tue          0        Jan          Tue  \n",
       "1           0         Jan           Tue          0        Jan          Tue  \n",
       "2           0         Jan           Tue          0        Jan          Tue  \n",
       "3           0         Jan           Tue          0        Jan          Tue  \n",
       "4           0         Jan           Tue          0        Jan          Tue  "
      ]
     },
     "execution_count": 121,
     "metadata": {},
     "output_type": "execute_result"
    }
   ],
   "source": [
    "bike_share.head()"
   ]
  },
  {
   "cell_type": "code",
   "execution_count": 139,
   "metadata": {},
   "outputs": [
    {
     "data": {
      "image/png": "[encoded data removed]",
      "text/plain": [
       "<Figure size 864x432 with 1 Axes>"
      ]
     },
     "metadata": {},
     "output_type": "display_data"
    }
   ],
   "source": [
    "#Count of Bike Rides per Month\n",
    "plt.figure(figsize=(12,6))\n",
    "\n",
    "g=sns.countplot(bike_share['month_start'], palette=\"GnBu\")\n",
    "g.set_title('Count of Bike Rides per Month in 2019', fontsize=14)\n",
    "g.set_xticklabels(bike_share['month_start'].unique(),rotation=45)\n",
    "g.set_xlabel('Month')\n",
    "g.set_ylabel('Count')\n",
    "\n",
    "plt.show()"
   ]
  },
  {
   "cell_type": "code",
   "execution_count": 122,
   "metadata": {},
   "outputs": [
    {
     "data": {
      "text/html": [
       "<div>\n",
       "<style scoped>\n",
       "    .dataframe tbody tr th:only-of-type {\n",
       "        vertical-align: middle;\n",
       "    }\n",
       "\n",
       "    .dataframe tbody tr th {\n",
       "        vertical-align: top;\n",
       "    }\n",
       "\n",
       "    .dataframe thead th {\n",
       "        text-align: right;\n",
       "    }\n",
       "</style>\n",
       "<table border=\"1\" class=\"dataframe\">\n",
       "  <thead>\n",
       "    <tr style=\"text-align: right;\">\n",
       "      <th>hour_start</th>\n",
       "      <th>0</th>\n",
       "      <th>1</th>\n",
       "      <th>2</th>\n",
       "      <th>3</th>\n",
       "      <th>4</th>\n",
       "      <th>5</th>\n",
       "      <th>6</th>\n",
       "      <th>7</th>\n",
       "      <th>8</th>\n",
       "      <th>9</th>\n",
       "      <th>...</th>\n",
       "      <th>14</th>\n",
       "      <th>15</th>\n",
       "      <th>16</th>\n",
       "      <th>17</th>\n",
       "      <th>18</th>\n",
       "      <th>19</th>\n",
       "      <th>20</th>\n",
       "      <th>21</th>\n",
       "      <th>22</th>\n",
       "      <th>23</th>\n",
       "    </tr>\n",
       "    <tr>\n",
       "      <th>weekday_start</th>\n",
       "      <th></th>\n",
       "      <th></th>\n",
       "      <th></th>\n",
       "      <th></th>\n",
       "      <th></th>\n",
       "      <th></th>\n",
       "      <th></th>\n",
       "      <th></th>\n",
       "      <th></th>\n",
       "      <th></th>\n",
       "      <th></th>\n",
       "      <th></th>\n",
       "      <th></th>\n",
       "      <th></th>\n",
       "      <th></th>\n",
       "      <th></th>\n",
       "      <th></th>\n",
       "      <th></th>\n",
       "      <th></th>\n",
       "      <th></th>\n",
       "      <th></th>\n",
       "    </tr>\n",
       "  </thead>\n",
       "  <tbody>\n",
       "    <tr>\n",
       "      <th>Fri</th>\n",
       "      <td>3600</td>\n",
       "      <td>2207</td>\n",
       "      <td>1564</td>\n",
       "      <td>733</td>\n",
       "      <td>631</td>\n",
       "      <td>1662</td>\n",
       "      <td>5015</td>\n",
       "      <td>14542</td>\n",
       "      <td>38833</td>\n",
       "      <td>26448</td>\n",
       "      <td>...</td>\n",
       "      <td>17932</td>\n",
       "      <td>21256</td>\n",
       "      <td>32604</td>\n",
       "      <td>43064</td>\n",
       "      <td>31086</td>\n",
       "      <td>22159</td>\n",
       "      <td>15971</td>\n",
       "      <td>11951</td>\n",
       "      <td>9075</td>\n",
       "      <td>7297</td>\n",
       "    </tr>\n",
       "    <tr>\n",
       "      <th>Mon</th>\n",
       "      <td>2610</td>\n",
       "      <td>1480</td>\n",
       "      <td>954</td>\n",
       "      <td>541</td>\n",
       "      <td>523</td>\n",
       "      <td>1535</td>\n",
       "      <td>4958</td>\n",
       "      <td>12862</td>\n",
       "      <td>34999</td>\n",
       "      <td>22699</td>\n",
       "      <td>...</td>\n",
       "      <td>17326</td>\n",
       "      <td>20339</td>\n",
       "      <td>29932</td>\n",
       "      <td>46288</td>\n",
       "      <td>33660</td>\n",
       "      <td>22555</td>\n",
       "      <td>15587</td>\n",
       "      <td>11181</td>\n",
       "      <td>7468</td>\n",
       "      <td>5076</td>\n",
       "    </tr>\n",
       "    <tr>\n",
       "      <th>Sat</th>\n",
       "      <td>5226</td>\n",
       "      <td>3674</td>\n",
       "      <td>2922</td>\n",
       "      <td>1306</td>\n",
       "      <td>592</td>\n",
       "      <td>678</td>\n",
       "      <td>1446</td>\n",
       "      <td>3060</td>\n",
       "      <td>6379</td>\n",
       "      <td>11024</td>\n",
       "      <td>...</td>\n",
       "      <td>25610</td>\n",
       "      <td>26131</td>\n",
       "      <td>26053</td>\n",
       "      <td>25535</td>\n",
       "      <td>23091</td>\n",
       "      <td>19389</td>\n",
       "      <td>14685</td>\n",
       "      <td>10879</td>\n",
       "      <td>9093</td>\n",
       "      <td>7189</td>\n",
       "    </tr>\n",
       "    <tr>\n",
       "      <th>Sun</th>\n",
       "      <td>5410</td>\n",
       "      <td>4172</td>\n",
       "      <td>3369</td>\n",
       "      <td>1610</td>\n",
       "      <td>769</td>\n",
       "      <td>663</td>\n",
       "      <td>1243</td>\n",
       "      <td>2510</td>\n",
       "      <td>5136</td>\n",
       "      <td>9478</td>\n",
       "      <td>...</td>\n",
       "      <td>26131</td>\n",
       "      <td>26997</td>\n",
       "      <td>26738</td>\n",
       "      <td>25481</td>\n",
       "      <td>22846</td>\n",
       "      <td>18359</td>\n",
       "      <td>13894</td>\n",
       "      <td>9846</td>\n",
       "      <td>7275</td>\n",
       "      <td>5237</td>\n",
       "    </tr>\n",
       "    <tr>\n",
       "      <th>Thu</th>\n",
       "      <td>2663</td>\n",
       "      <td>1378</td>\n",
       "      <td>801</td>\n",
       "      <td>386</td>\n",
       "      <td>518</td>\n",
       "      <td>1697</td>\n",
       "      <td>5546</td>\n",
       "      <td>14816</td>\n",
       "      <td>40778</td>\n",
       "      <td>26979</td>\n",
       "      <td>...</td>\n",
       "      <td>14254</td>\n",
       "      <td>16702</td>\n",
       "      <td>28363</td>\n",
       "      <td>45941</td>\n",
       "      <td>33872</td>\n",
       "      <td>23422</td>\n",
       "      <td>17927</td>\n",
       "      <td>12695</td>\n",
       "      <td>9109</td>\n",
       "      <td>6670</td>\n",
       "    </tr>\n",
       "  </tbody>\n",
       "</table>\n",
       "<p>5 rows × 24 columns</p>\n",
       "</div>"
      ],
      "text/plain": [
       "hour_start       0     1     2     3    4     5     6      7      8      9   \\\n",
       "weekday_start                                                                 \n",
       "Fri            3600  2207  1564   733  631  1662  5015  14542  38833  26448   \n",
       "Mon            2610  1480   954   541  523  1535  4958  12862  34999  22699   \n",
       "Sat            5226  3674  2922  1306  592   678  1446   3060   6379  11024   \n",
       "Sun            5410  4172  3369  1610  769   663  1243   2510   5136   9478   \n",
       "Thu            2663  1378   801   386  518  1697  5546  14816  40778  26979   \n",
       "\n",
       "hour_start     ...     14     15     16     17     18     19     20     21  \\\n",
       "weekday_start  ...                                                           \n",
       "Fri            ...  17932  21256  32604  43064  31086  22159  15971  11951   \n",
       "Mon            ...  17326  20339  29932  46288  33660  22555  15587  11181   \n",
       "Sat            ...  25610  26131  26053  25535  23091  19389  14685  10879   \n",
       "Sun            ...  26131  26997  26738  25481  22846  18359  13894   9846   \n",
       "Thu            ...  14254  16702  28363  45941  33872  23422  17927  12695   \n",
       "\n",
       "hour_start       22    23  \n",
       "weekday_start              \n",
       "Fri            9075  7297  \n",
       "Mon            7468  5076  \n",
       "Sat            9093  7189  \n",
       "Sun            7275  5237  \n",
       "Thu            9109  6670  \n",
       "\n",
       "[5 rows x 24 columns]"
      ]
     },
     "execution_count": 122,
     "metadata": {},
     "output_type": "execute_result"
    }
   ],
   "source": [
    "#DataFrame by the hour and the day of the week:\n",
    "daily_activity = bike_share.groupby(by=['weekday_start','hour_start']).count()['User Type'].unstack()\n",
    "daily_activity.head()"
   ]
  },
  {
   "cell_type": "code",
   "execution_count": 160,
   "metadata": {},
   "outputs": [
    {
     "data": {
      "image/png": "[encoded data removed]",
      "text/plain": [
       "<Figure size 864x432 with 1 Axes>"
      ]
     },
     "metadata": {},
     "output_type": "display_data"
    }
   ],
   "source": [
    "#Count of Bike Rides per Week\n",
    "plt.figure(figsize=(12,6))\n",
    "\n",
    "g=sns.countplot(bike_share['weekday_start'],palette=\"GnBu\")\n",
    "g.set_title('Count of Bike Rides per Week in 2019', fontsize=14)\n",
    "g.set_xticklabels(bike_share['weekday_start'].unique(),rotation=45)\n",
    "g.set_xlabel('Month')\n",
    "g.set_ylabel('Count')\n",
    "\n",
    "plt.show()"
   ]
  },
  {
   "cell_type": "code",
   "execution_count": 167,
   "metadata": {},
   "outputs": [
    {
     "data": {
      "text/plain": [
       "Text(0.5, 1.0, 'Toronto Membership 2019')"
      ]
     },
     "execution_count": 167,
     "metadata": {},
     "output_type": "execute_result"
    },
    {
     "data": {
      "image/png": "[encoded data removed]",
      "text/plain": [
       "<Figure size 720x360 with 1 Axes>"
      ]
     },
     "metadata": {},
     "output_type": "display_data"
    }
   ],
   "source": [
    "#Bike Share Toronto membership:\n",
    "plt.figure(figsize=(10,5))\n",
    "sns.set_style('darkgrid')\n",
    "sns.countplot(x='User Type',data=bike_share,palette='colorblind')\n",
    "plt.title('Toronto Membership 2019')"
   ]
  },
  {
   "cell_type": "code",
   "execution_count": 162,
   "metadata": {},
   "outputs": [
    {
     "data": {
      "text/plain": [
       "Text(0.5, 1.0, 'Top 5 Arriving Stations (Annual Members)')"
      ]
     },
     "execution_count": 162,
     "metadata": {},
     "output_type": "execute_result"
    },
    {
     "data": {
      "image/png": "[encoded data removed]",
      "text/plain": [
       "<Figure size 720x360 with 1 Axes>"
      ]
     },
     "metadata": {},
     "output_type": "display_data"
    }
   ],
   "source": [
    "#The top stations for Annual members:\n",
    "plt.figure(figsize=(10,5))\n",
    "sns.set_style('darkgrid')\n",
    "sns.countplot(y=bike_share[bike_share['User Type']=='Annual Member']['Start Station Name'],data=bike_share, palette='coolwarm',order=bike_share[bike_share['User Type']=='Annual Member']['Start Station Name'].value_counts().index[:5])\n",
    "plt.title('Top 5 Arriving Stations (Annual Members)')"
   ]
  },
  {
   "cell_type": "code",
   "execution_count": 172,
   "metadata": {},
   "outputs": [
    {
     "data": {
      "text/plain": [
       "Text(0.5, 1.0, 'Top 5 Arriving Stations (Casual Members)')"
      ]
     },
     "execution_count": 172,
     "metadata": {},
     "output_type": "execute_result"
    },
    {
     "data": {
      "image/png": "[encoded data removed]",
      "text/plain": [
       "<Figure size 720x360 with 1 Axes>"
      ]
     },
     "metadata": {},
     "output_type": "display_data"
    }
   ],
   "source": [
    "#The top stations for casual members:\n",
    "plt.figure(figsize=(10,5))\n",
    "sns.set_style('darkgrid')\n",
    "sns.countplot(y=bike_share[bike_share['User Type']=='Casual Member']['Start Station Name'],data=bike_share, palette='viridis',order=bike_share[bike_share['User Type']=='Casual Member']['Start Station Name'].value_counts().index[:5])\n",
    "plt.title('Top 5 Arriving Stations (Casual Members)')"
   ]
  },
  {
   "cell_type": "code",
   "execution_count": null,
   "metadata": {},
   "outputs": [],
   "source": []
  }
 ],
 "metadata": {
  "kernelspec": {
   "display_name": "Python 3",
   "language": "python",
   "name": "python3"
  },
  "language_info": {
   "codemirror_mode": {
    "name": "ipython",
    "version": 3
   },
   "file_extension": ".py",
   "mimetype": "text/x-python",
   "name": "python",
   "nbconvert_exporter": "python",
   "pygments_lexer": "ipython3",
   "version": "3.8.3"
  }
 },
 "nbformat": 4,
 "nbformat_minor": 4
}
