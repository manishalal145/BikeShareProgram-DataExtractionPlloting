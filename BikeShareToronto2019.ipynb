{
 "cells": [
  {
   "cell_type": "code",
   "execution_count": 2,
   "metadata": {},
   "outputs": [],
   "source": [
    "# import dependencies\n",
    "import os\n",
    "import matplotlib.pyplot as plt\n",
    "import pandas as pd\n",
    "import numpy as np\n",
    "import scipy.stats as st\n",
    "import requests\n"
   ]
  },
  {
   "cell_type": "code",
   "execution_count": 7,
   "metadata": {},
   "outputs": [],
   "source": [
    "toronto_Q1_path = os.path.join(\"Resources/Toronto\", \"2019-Q1.csv\")\n",
    "toronto_Q2_path = os.path.join(\"Resources/Toronto\", \"2019-Q2.csv\")\n",
    "toronto_Q3_path = os.path.join(\"Resources/Toronto\", \"2019-Q3.csv\")\n",
    "toronto_Q4_path = os.path.join(\"Resources/Toronto\", \"2019-Q4.csv\")\n",
    "\n",
    "q1 = pd.read_csv(toronto_Q1_path, encoding=\"utf=8\")\n",
    "q2 = pd.read_csv(toronto_Q2_path, encoding=\"utf=8\")\n",
    "q3 = pd.read_csv(toronto_Q3_path, encoding=\"utf=8\")\n",
    "q4 = pd.read_csv(toronto_Q4_path, encoding=\"utf=8\")\n"
   ]
  },
  {
   "cell_type": "code",
   "execution_count": 23,
   "metadata": {
    "scrolled": true
   },
   "outputs": [
    {
     "name": "stdout",
     "output_type": "stream",
     "text": [
      "Q1: 189063 Q2: 651685 Q3: 1130353 Q4: 468416 Total: 2439517\n"
     ]
    }
   ],
   "source": [
    "#Trip Id\tSubscription Id\tTrip Duration\tStart Station Id\tStart Time\tStart Station Name\tEnd Station Id\tEnd Time\tEnd Station Name\tBike Id\tUser Type\n",
    "#summary data frame\n",
    "q1_total = q1.count()[\"Trip Id\"]\n",
    "q2_total = q2.count()[\"Trip Id\"]\n",
    "q3_total = q3.count()[\"Trip Id\"]\n",
    "q4_total = q4.count()[\"Trip Id\"]\n",
    "total_trips = q1_total + q2_total + q3_total + q4_total\n",
    "total_trips\n",
    "print(f\"Q1: {q1_total} Q2: {q2_total} Q3: {q3_total} Q4: {q4_total} Total: {total_trips}\")"
   ]
  },
  {
   "cell_type": "code",
   "execution_count": 26,
   "metadata": {},
   "outputs": [
    {
     "data": {
      "text/plain": [
       "359"
      ]
     },
     "execution_count": 26,
     "metadata": {},
     "output_type": "execute_result"
    }
   ],
   "source": [
    "#get all station ids\n",
    "q1_uniq_start = q1[\"Start Station Id\"].nunique() #359\n",
    "q1_uniq_end= q1[\"End Station Id\"].nunique()\n",
    "q1_uniq_start\n",
    "q1_uniq_end"
   ]
  },
  {
   "cell_type": "code",
   "execution_count": 43,
   "metadata": {},
   "outputs": [],
   "source": [
    "#625 all over toronto\n",
    "#get all unique stations\n",
    "q1_start_stn = q1[\"Start Station Id\"]\n",
    "q1_end_stn = q1[\"End Station Id\"]\n",
    "toronto_stations = []  #359\n",
    "\n",
    "q2_start_stn = q2[\"Start Station Id\"]\n",
    "q2_end_stn = q2[\"End Station Id\"]\n",
    "\n",
    "q3_start_stn = q3[\"Start Station Id\"]\n",
    "q3_end_stn = q3[\"End Station Id\"]\n",
    "\n",
    "q4_start_stn = q4[\"Start Station Id\"]\n",
    "q4_end_stn = q4[\"End Station Id\"]\n"
   ]
  },
  {
   "cell_type": "code",
   "execution_count": null,
   "metadata": {},
   "outputs": [],
   "source": [
    "for x in range(len(q1)):\n",
    "    station = q1_start_stn[x]\n",
    "    if station not in toronto_stations:\n",
    "        toronto_stations.append(station)\n",
    "\n",
    "for x in range(len(q1)):\n",
    "    station = q1_end_stn[x]\n",
    "    if station not in toronto_stations:\n",
    "        toronto_stations.append(station)\n"
   ]
  },
  {
   "cell_type": "code",
   "execution_count": 36,
   "metadata": {},
   "outputs": [
    {
     "data": {
      "text/plain": [
       "359"
      ]
     },
     "execution_count": 36,
     "metadata": {},
     "output_type": "execute_result"
    }
   ],
   "source": [
    "len(toronto_stations)"
   ]
  },
  {
   "cell_type": "code",
   "execution_count": 37,
   "metadata": {},
   "outputs": [],
   "source": [
    "for x in range(len(q2)):\n",
    "    station = q2_start_stn[x]\n",
    "    if station not in toronto_stations:\n",
    "        toronto_stations.append(station)\n",
    "\n",
    "for x in range(len(q2)):\n",
    "    station = q2_end_stn[x]\n",
    "    if station not in toronto_stations:\n",
    "        toronto_stations.append(station)\n"
   ]
  },
  {
   "cell_type": "code",
   "execution_count": 39,
   "metadata": {},
   "outputs": [
    {
     "data": {
      "text/plain": [
       "372"
      ]
     },
     "execution_count": 39,
     "metadata": {},
     "output_type": "execute_result"
    }
   ],
   "source": [
    "len(toronto_stations)"
   ]
  },
  {
   "cell_type": "code",
   "execution_count": 41,
   "metadata": {},
   "outputs": [
    {
     "data": {
      "text/plain": [
       "489"
      ]
     },
     "execution_count": 41,
     "metadata": {},
     "output_type": "execute_result"
    }
   ],
   "source": [
    "for x in range(len(q3)):\n",
    "    station = q3_start_stn[x]\n",
    "    if station not in toronto_stations:\n",
    "        toronto_stations.append(station)\n",
    "\n",
    "for x in range(len(q3)):\n",
    "    station = q3_end_stn[x]\n",
    "    if station not in toronto_stations:\n",
    "        toronto_stations.append(station)\n",
    "\n",
    "len(toronto_stations)"
   ]
  },
  {
   "cell_type": "code",
   "execution_count": 44,
   "metadata": {},
   "outputs": [
    {
     "data": {
      "text/plain": [
       "900"
      ]
     },
     "execution_count": 44,
     "metadata": {},
     "output_type": "execute_result"
    }
   ],
   "source": [
    "for x in range(len(q4)):\n",
    "    station = q4_start_stn[x]\n",
    "    if station not in toronto_stations:\n",
    "        toronto_stations.append(station)\n",
    "\n",
    "for x in range(len(q4)):\n",
    "    station = q4_end_stn[x]\n",
    "    if station not in toronto_stations:\n",
    "        toronto_stations.append(station)\n",
    "\n",
    "len(toronto_stations)"
   ]
  },
  {
   "cell_type": "code",
   "execution_count": 61,
   "metadata": {},
   "outputs": [
    {
     "data": {
      "text/html": [
       "<div>\n",
       "<style scoped>\n",
       "    .dataframe tbody tr th:only-of-type {\n",
       "        vertical-align: middle;\n",
       "    }\n",
       "\n",
       "    .dataframe tbody tr th {\n",
       "        vertical-align: top;\n",
       "    }\n",
       "\n",
       "    .dataframe thead th {\n",
       "        text-align: right;\n",
       "    }\n",
       "</style>\n",
       "<table border=\"1\" class=\"dataframe\">\n",
       "  <thead>\n",
       "    <tr style=\"text-align: right;\">\n",
       "      <th></th>\n",
       "      <th>Total Count</th>\n",
       "    </tr>\n",
       "  </thead>\n",
       "  <tbody>\n",
       "    <tr>\n",
       "      <th>Annual Member</th>\n",
       "      <td>7654</td>\n",
       "    </tr>\n",
       "    <tr>\n",
       "      <th>Casual Member</th>\n",
       "      <td>3376</td>\n",
       "    </tr>\n",
       "  </tbody>\n",
       "</table>\n",
       "</div>"
      ],
      "text/plain": [
       "               Total Count\n",
       "Annual Member         7654\n",
       "Casual Member         3376"
      ]
     },
     "execution_count": 61,
     "metadata": {},
     "output_type": "execute_result"
    }
   ],
   "source": [
    "#unique number of users\n",
    "total_users_df = q1[\"Subscription Id\"].nunique()\n",
    "total_users_df  #11030\n",
    "\n",
    "#User Type count\n",
    "user_type = q1[[\"Subscription Id\", \"User Type\"]].drop_duplicates()\n",
    "user_type_df = pd.DataFrame({\"Total Count\" : user_type[\"User Type\"].value_counts()})\n",
    "user_type_df\n"
   ]
  },
  {
   "cell_type": "code",
   "execution_count": 84,
   "metadata": {},
   "outputs": [],
   "source": [
    "#average trip duration\n",
    "trip_duration = q1[\"Trip  Duration\"].mean()\n",
    "avg_trip_duration = trip_duration / 60\n",
    "\n"
   ]
  },
  {
   "cell_type": "code",
   "execution_count": 85,
   "metadata": {},
   "outputs": [
    {
     "data": {
      "text/html": [
       "<div>\n",
       "<style scoped>\n",
       "    .dataframe tbody tr th:only-of-type {\n",
       "        vertical-align: middle;\n",
       "    }\n",
       "\n",
       "    .dataframe tbody tr th {\n",
       "        vertical-align: top;\n",
       "    }\n",
       "\n",
       "    .dataframe thead th {\n",
       "        text-align: right;\n",
       "    }\n",
       "</style>\n",
       "<table border=\"1\" class=\"dataframe\">\n",
       "  <thead>\n",
       "    <tr style=\"text-align: right;\">\n",
       "      <th></th>\n",
       "      <th>Trip Id</th>\n",
       "      <th>Subscription Id</th>\n",
       "      <th>Trip  Duration</th>\n",
       "      <th>Start Station Id</th>\n",
       "      <th>Start Time</th>\n",
       "      <th>Start Station Name</th>\n",
       "      <th>End Station Id</th>\n",
       "      <th>End Time</th>\n",
       "      <th>End Station Name</th>\n",
       "      <th>Bike Id</th>\n",
       "      <th>User Type</th>\n",
       "    </tr>\n",
       "  </thead>\n",
       "  <tbody>\n",
       "    <tr>\n",
       "      <th>0</th>\n",
       "      <td>4581278</td>\n",
       "      <td>199751</td>\n",
       "      <td>1547</td>\n",
       "      <td>7021</td>\n",
       "      <td>01/01/2019 00:08</td>\n",
       "      <td>Bay St / Albert St</td>\n",
       "      <td>7233</td>\n",
       "      <td>01/01/2019 00:33</td>\n",
       "      <td>King / Cowan Ave - SMART</td>\n",
       "      <td>1296</td>\n",
       "      <td>Annual Member</td>\n",
       "    </tr>\n",
       "    <tr>\n",
       "      <th>1</th>\n",
       "      <td>4581279</td>\n",
       "      <td>294730</td>\n",
       "      <td>1112</td>\n",
       "      <td>7160</td>\n",
       "      <td>01/01/2019 00:10</td>\n",
       "      <td>King St W / Tecumseth St</td>\n",
       "      <td>7051</td>\n",
       "      <td>01/01/2019 00:29</td>\n",
       "      <td>Wellesley St E / Yonge St (Green P)</td>\n",
       "      <td>2947</td>\n",
       "      <td>Annual Member</td>\n",
       "    </tr>\n",
       "    <tr>\n",
       "      <th>2</th>\n",
       "      <td>4581280</td>\n",
       "      <td>197252</td>\n",
       "      <td>589</td>\n",
       "      <td>7055</td>\n",
       "      <td>01/01/2019 00:15</td>\n",
       "      <td>Jarvis St / Carlton St</td>\n",
       "      <td>7013</td>\n",
       "      <td>01/01/2019 00:25</td>\n",
       "      <td>Scott St / The Esplanade</td>\n",
       "      <td>2293</td>\n",
       "      <td>Annual Member</td>\n",
       "    </tr>\n",
       "    <tr>\n",
       "      <th>3</th>\n",
       "      <td>4581281</td>\n",
       "      <td>171700</td>\n",
       "      <td>259</td>\n",
       "      <td>7012</td>\n",
       "      <td>01/01/2019 00:16</td>\n",
       "      <td>Elizabeth St / Edward St (Bus Terminal)</td>\n",
       "      <td>7235</td>\n",
       "      <td>01/01/2019 00:20</td>\n",
       "      <td>Bay St / College St (West Side) - SMART</td>\n",
       "      <td>283</td>\n",
       "      <td>Annual Member</td>\n",
       "    </tr>\n",
       "    <tr>\n",
       "      <th>4</th>\n",
       "      <td>4581282</td>\n",
       "      <td>306314</td>\n",
       "      <td>281</td>\n",
       "      <td>7041</td>\n",
       "      <td>01/01/2019 00:19</td>\n",
       "      <td>Edward St / Yonge St</td>\n",
       "      <td>7257</td>\n",
       "      <td>01/01/2019 00:24</td>\n",
       "      <td>Dundas St W / St. Patrick St</td>\n",
       "      <td>1799</td>\n",
       "      <td>Annual Member</td>\n",
       "    </tr>\n",
       "    <tr>\n",
       "      <th>...</th>\n",
       "      <td>...</td>\n",
       "      <td>...</td>\n",
       "      <td>...</td>\n",
       "      <td>...</td>\n",
       "      <td>...</td>\n",
       "      <td>...</td>\n",
       "      <td>...</td>\n",
       "      <td>...</td>\n",
       "      <td>...</td>\n",
       "      <td>...</td>\n",
       "      <td>...</td>\n",
       "    </tr>\n",
       "    <tr>\n",
       "      <th>189058</th>\n",
       "      <td>4802537</td>\n",
       "      <td>174764</td>\n",
       "      <td>761</td>\n",
       "      <td>7048</td>\n",
       "      <td>03/31/2019 23:45</td>\n",
       "      <td>Front St W / Yonge St (Hockey Hall of Fame)</td>\n",
       "      <td>7176</td>\n",
       "      <td>03/31/2019 23:58</td>\n",
       "      <td>Bathurst St / Fort York Blvd</td>\n",
       "      <td>1722</td>\n",
       "      <td>Annual Member</td>\n",
       "    </tr>\n",
       "    <tr>\n",
       "      <th>189059</th>\n",
       "      <td>4802538</td>\n",
       "      <td>304393</td>\n",
       "      <td>253</td>\n",
       "      <td>7006</td>\n",
       "      <td>03/31/2019 23:46</td>\n",
       "      <td>Bay St / College St (East Side)</td>\n",
       "      <td>7293</td>\n",
       "      <td>03/31/2019 23:50</td>\n",
       "      <td>College St / McCaul St</td>\n",
       "      <td>2660</td>\n",
       "      <td>Annual Member</td>\n",
       "    </tr>\n",
       "    <tr>\n",
       "      <th>189060</th>\n",
       "      <td>4802539</td>\n",
       "      <td>212530</td>\n",
       "      <td>286</td>\n",
       "      <td>7027</td>\n",
       "      <td>03/31/2019 23:49</td>\n",
       "      <td>Beverley  St / Dundas St W</td>\n",
       "      <td>7017</td>\n",
       "      <td>03/31/2019 23:54</td>\n",
       "      <td>Widmer St / Adelaide St W</td>\n",
       "      <td>3725</td>\n",
       "      <td>Annual Member</td>\n",
       "    </tr>\n",
       "    <tr>\n",
       "      <th>189061</th>\n",
       "      <td>4802540</td>\n",
       "      <td>199751</td>\n",
       "      <td>677</td>\n",
       "      <td>7206</td>\n",
       "      <td>03/31/2019 23:55</td>\n",
       "      <td>Claremont St / Dundas St W</td>\n",
       "      <td>7233</td>\n",
       "      <td>04/01/2019 00:06</td>\n",
       "      <td>King / Cowan Ave - SMART</td>\n",
       "      <td>1630</td>\n",
       "      <td>Annual Member</td>\n",
       "    </tr>\n",
       "    <tr>\n",
       "      <th>189062</th>\n",
       "      <td>4802541</td>\n",
       "      <td>214248</td>\n",
       "      <td>437</td>\n",
       "      <td>7076</td>\n",
       "      <td>03/31/2019 23:55</td>\n",
       "      <td>York St / Queens Quay W</td>\n",
       "      <td>7203</td>\n",
       "      <td>04/01/2019 00:02</td>\n",
       "      <td>Bathurst St/Queens Quay(Billy Bishop Airport)</td>\n",
       "      <td>3456</td>\n",
       "      <td>Annual Member</td>\n",
       "    </tr>\n",
       "  </tbody>\n",
       "</table>\n",
       "<p>189063 rows × 11 columns</p>\n",
       "</div>"
      ],
      "text/plain": [
       "        Trip Id  Subscription Id  Trip  Duration  Start Station Id  \\\n",
       "0       4581278           199751            1547              7021   \n",
       "1       4581279           294730            1112              7160   \n",
       "2       4581280           197252             589              7055   \n",
       "3       4581281           171700             259              7012   \n",
       "4       4581282           306314             281              7041   \n",
       "...         ...              ...             ...               ...   \n",
       "189058  4802537           174764             761              7048   \n",
       "189059  4802538           304393             253              7006   \n",
       "189060  4802539           212530             286              7027   \n",
       "189061  4802540           199751             677              7206   \n",
       "189062  4802541           214248             437              7076   \n",
       "\n",
       "              Start Time                           Start Station Name  \\\n",
       "0       01/01/2019 00:08                           Bay St / Albert St   \n",
       "1       01/01/2019 00:10                     King St W / Tecumseth St   \n",
       "2       01/01/2019 00:15                       Jarvis St / Carlton St   \n",
       "3       01/01/2019 00:16      Elizabeth St / Edward St (Bus Terminal)   \n",
       "4       01/01/2019 00:19                         Edward St / Yonge St   \n",
       "...                  ...                                          ...   \n",
       "189058  03/31/2019 23:45  Front St W / Yonge St (Hockey Hall of Fame)   \n",
       "189059  03/31/2019 23:46              Bay St / College St (East Side)   \n",
       "189060  03/31/2019 23:49                   Beverley  St / Dundas St W   \n",
       "189061  03/31/2019 23:55                   Claremont St / Dundas St W   \n",
       "189062  03/31/2019 23:55                      York St / Queens Quay W   \n",
       "\n",
       "        End Station Id          End Time  \\\n",
       "0                 7233  01/01/2019 00:33   \n",
       "1                 7051  01/01/2019 00:29   \n",
       "2                 7013  01/01/2019 00:25   \n",
       "3                 7235  01/01/2019 00:20   \n",
       "4                 7257  01/01/2019 00:24   \n",
       "...                ...               ...   \n",
       "189058            7176  03/31/2019 23:58   \n",
       "189059            7293  03/31/2019 23:50   \n",
       "189060            7017  03/31/2019 23:54   \n",
       "189061            7233  04/01/2019 00:06   \n",
       "189062            7203  04/01/2019 00:02   \n",
       "\n",
       "                                     End Station Name  Bike Id      User Type  \n",
       "0                            King / Cowan Ave - SMART     1296  Annual Member  \n",
       "1                 Wellesley St E / Yonge St (Green P)     2947  Annual Member  \n",
       "2                            Scott St / The Esplanade     2293  Annual Member  \n",
       "3             Bay St / College St (West Side) - SMART      283  Annual Member  \n",
       "4                        Dundas St W / St. Patrick St     1799  Annual Member  \n",
       "...                                               ...      ...            ...  \n",
       "189058                   Bathurst St / Fort York Blvd     1722  Annual Member  \n",
       "189059                         College St / McCaul St     2660  Annual Member  \n",
       "189060                      Widmer St / Adelaide St W     3725  Annual Member  \n",
       "189061                       King / Cowan Ave - SMART     1630  Annual Member  \n",
       "189062  Bathurst St/Queens Quay(Billy Bishop Airport)     3456  Annual Member  \n",
       "\n",
       "[189063 rows x 11 columns]"
      ]
     },
     "execution_count": 85,
     "metadata": {},
     "output_type": "execute_result"
    }
   ],
   "source": [
    "q1"
   ]
  },
  {
   "cell_type": "code",
   "execution_count": null,
   "metadata": {},
   "outputs": [],
   "source": []
  }
 ],
 "metadata": {
  "kernelspec": {
   "display_name": "Python 3",
   "language": "python",
   "name": "python3"
  },
  "language_info": {
   "codemirror_mode": {
    "name": "ipython",
    "version": 3
   },
   "file_extension": ".py",
   "mimetype": "text/x-python",
   "name": "python",
   "nbconvert_exporter": "python",
   "pygments_lexer": "ipython3",
   "version": "3.8.3"
  }
 },
 "nbformat": 4,
 "nbformat_minor": 4
}
